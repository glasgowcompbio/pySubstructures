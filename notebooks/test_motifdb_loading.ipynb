{
 "cells": [
  {
   "cell_type": "markdown",
   "metadata": {},
   "source": [
    "A notebook to compare results from retriving motifdb from m2lda and from local dump"
   ]
  },
  {
   "cell_type": "code",
   "execution_count": 1,
   "metadata": {
    "ExecuteTime": {
     "end_time": "2024-03-24T12:10:23.874791Z",
     "start_time": "2024-03-24T12:10:23.870137Z"
    }
   },
   "outputs": [],
   "source": [
    "import sys, os\n",
    "\n",
    "sys.path.append('..')"
   ]
  },
  {
   "cell_type": "markdown",
   "metadata": {},
   "source": [
    "Retrieving data from ms2lda"
   ]
  },
  {
   "cell_type": "code",
   "outputs": [],
   "source": [
    "class Args:\n",
    "    def __init__(self, **kwargs):\n",
    "        self.__dict__.update(kwargs)\n",
    "\n",
    "# Example of creating an `args` object with user preferences\n",
    "args = Args(\n",
    "    gnps_motif_include=\"yes\",\n",
    "    massbank_motif_include=\"no\",\n",
    "    urine_motif_include=\"no\",\n",
    "    euphorbia_motif_include=\"no\",\n",
    "    rhamnaceae_motif_include=\"no\",\n",
    "    strep_salin_motif_include=\"no\",\n",
    "    photorhabdus_motif_include=\"no\",\n",
    "    user_motif_sets=None\n",
    ")"
   ],
   "metadata": {
    "collapsed": false,
    "ExecuteTime": {
     "end_time": "2024-03-24T12:10:23.879855Z",
     "start_time": "2024-03-24T12:10:23.877868Z"
    }
   },
   "execution_count": 2
  },
  {
   "cell_type": "code",
   "outputs": [],
   "source": [
    "from pySubstructures.motifdb.main import acquire_motifsets"
   ],
   "metadata": {
    "collapsed": false,
    "ExecuteTime": {
     "end_time": "2024-03-24T12:10:24.043483Z",
     "start_time": "2024-03-24T12:10:23.880717Z"
    }
   },
   "execution_count": 3
  },
  {
   "cell_type": "code",
   "outputs": [
    {
     "data": {
      "text/plain": "(77, 77, 3644)"
     },
     "execution_count": 4,
     "metadata": {},
     "output_type": "execute_result"
    }
   ],
   "source": [
    "motifdb_spectra, motifdb_metadata, motifdb_features = acquire_motifsets(args)\n",
    "len(motifdb_spectra), len(motifdb_metadata), len(motifdb_features)"
   ],
   "metadata": {
    "collapsed": false,
    "ExecuteTime": {
     "end_time": "2024-03-24T12:10:24.436719Z",
     "start_time": "2024-03-24T12:10:24.045536Z"
    }
   },
   "execution_count": 4
  },
  {
   "cell_type": "markdown",
   "source": [
    "Second method of loading the dumped motif sets"
   ],
   "metadata": {
    "collapsed": false
   }
  },
  {
   "cell_type": "code",
   "outputs": [
    {
     "data": {
      "text/plain": "MultiplexedPath('/Users/joewandy/Work/git/pySubstructures/pySubstructures/resources')"
     },
     "execution_count": 5,
     "metadata": {},
     "output_type": "execute_result"
    }
   ],
   "source": [
    "from importlib import resources as impresources\n",
    "from pySubstructures import resources\n",
    "\n",
    "RESOURCE_DIR = impresources.files(resources)\n",
    "RESOURCE_DIR"
   ],
   "metadata": {
    "collapsed": false,
    "ExecuteTime": {
     "end_time": "2024-03-24T12:10:24.440841Z",
     "start_time": "2024-03-24T12:10:24.437922Z"
    }
   },
   "execution_count": 5
  },
  {
   "cell_type": "code",
   "outputs": [],
   "source": [
    "from pySubstructures.motifdb.constants import GNPS_LIBRARY_DERIVED_MASS2MOTIFS\n",
    "from pySubstructures.motifdb.main import load_db"
   ],
   "metadata": {
    "collapsed": false,
    "ExecuteTime": {
     "end_time": "2024-03-24T12:10:24.443224Z",
     "start_time": "2024-03-24T12:10:24.441528Z"
    }
   },
   "execution_count": 6
  },
  {
   "cell_type": "code",
   "outputs": [
    {
     "data": {
      "text/plain": "('/Users/joewandy/Work/git/pySubstructures/pySubstructures/resources/MOTIFDB',\n ['GNPS library derived Mass2Motifs'])"
     },
     "execution_count": 7,
     "metadata": {},
     "output_type": "execute_result"
    }
   ],
   "source": [
    "db_path = os.path.abspath(RESOURCE_DIR / 'MOTIFDB')\n",
    "db_list = [\n",
    "    GNPS_LIBRARY_DERIVED_MASS2MOTIFS\n",
    "]\n",
    "db_path, db_list"
   ],
   "metadata": {
    "ExecuteTime": {
     "end_time": "2024-03-24T12:10:24.446087Z",
     "start_time": "2024-03-24T12:10:24.443830Z"
    }
   },
   "execution_count": 7
  },
  {
   "cell_type": "code",
   "execution_count": 8,
   "metadata": {
    "ExecuteTime": {
     "end_time": "2024-03-24T12:10:24.453165Z",
     "start_time": "2024-03-24T12:10:24.446702Z"
    }
   },
   "outputs": [
    {
     "name": "stdout",
     "output_type": "stream",
     "text": [
      "Looking in /Users/joewandy/Work/git/pySubstructures/pySubstructures/resources/MOTIFDB/GNPS library derived Mass2Motifs/*.m2m\n",
      "\t Found 77\n",
      "Found total of 77 motif files\n"
     ]
    }
   ],
   "source": [
    "loaded_spectra, loaded_metadata, loaded_features = load_db(db_list, db_path)"
   ]
  },
  {
   "cell_type": "code",
   "execution_count": 9,
   "metadata": {
    "ExecuteTime": {
     "end_time": "2024-03-24T12:10:24.455720Z",
     "start_time": "2024-03-24T12:10:24.453724Z"
    }
   },
   "outputs": [
    {
     "data": {
      "text/plain": "(77, 77, 3644)"
     },
     "execution_count": 9,
     "metadata": {},
     "output_type": "execute_result"
    }
   ],
   "source": [
    "len(loaded_spectra), len(loaded_metadata), len(loaded_features)"
   ]
  },
  {
   "cell_type": "markdown",
   "source": [
    "Compare to make sure they're the same"
   ],
   "metadata": {
    "collapsed": false
   }
  },
  {
   "cell_type": "code",
   "outputs": [
    {
     "name": "stdout",
     "output_type": "stream",
     "text": [
      "All lengths are identical. Proceeding to content comparison...\n"
     ]
    }
   ],
   "source": [
    "assert len(motifdb_spectra) == len(loaded_spectra), \"Spectra lengths differ\"\n",
    "assert len(motifdb_metadata) == len(loaded_metadata), \"Metadata lengths differ\"\n",
    "assert len(motifdb_features) == len(loaded_features), \"Features lengths differ\"\n",
    "\n",
    "print(\"All lengths are identical. Proceeding to content comparison...\")"
   ],
   "metadata": {
    "collapsed": false,
    "ExecuteTime": {
     "end_time": "2024-03-24T12:10:24.459105Z",
     "start_time": "2024-03-24T12:10:24.457126Z"
    }
   },
   "execution_count": 10
  },
  {
   "cell_type": "code",
   "outputs": [],
   "source": [
    "# Assert all keys in motifdb_spectra are in loaded_spectra and their values are identical\n",
    "for key, value in motifdb_spectra.items():\n",
    "    assert key in loaded_spectra, f\"Key {key} not found in loaded_spectra.\"\n",
    "    assert value == loaded_spectra[key], f\"Value mismatch for key {key} between motifdb_spectra and loaded_spectra.\""
   ],
   "metadata": {
    "collapsed": false,
    "ExecuteTime": {
     "end_time": "2024-03-24T12:10:24.461451Z",
     "start_time": "2024-03-24T12:10:24.459637Z"
    }
   },
   "execution_count": 11
  },
  {
   "cell_type": "code",
   "outputs": [],
   "source": [
    "# List of keys to ignore during comparison\n",
    "ignore_keys = ['motifdb_id', 'motifdb_url', 'merged']\n",
    "\n",
    "# Assert all keys in motifdb_metadata are in loaded_metadata and their values are identical, except ignored keys\n",
    "for key, value in motifdb_metadata.items():\n",
    "    assert key in loaded_metadata, f\"Key {key} not found in loaded_metadata.\"\n",
    "    for sub_key in value:\n",
    "        if sub_key not in ignore_keys:  # Skip comparison for ignored keys\n",
    "            assert sub_key in loaded_metadata[key], f\"Sub-key {sub_key} not found in loaded_metadata[{key}].\"\n",
    "            assert value[sub_key] == loaded_metadata[key][sub_key], f\"Mismatch for sub-key {sub_key} in key {key}.\""
   ],
   "metadata": {
    "collapsed": false,
    "ExecuteTime": {
     "end_time": "2024-03-24T12:10:24.464112Z",
     "start_time": "2024-03-24T12:10:24.461994Z"
    }
   },
   "execution_count": 12
  },
  {
   "cell_type": "code",
   "outputs": [],
   "source": [
    "# Assert motifdb_features and loaded_features are identical\n",
    "assert motifdb_features == loaded_features, \"Mismatch in motifdb_features and loaded_features.\""
   ],
   "metadata": {
    "collapsed": false,
    "ExecuteTime": {
     "end_time": "2024-03-24T12:10:24.466387Z",
     "start_time": "2024-03-24T12:10:24.464778Z"
    }
   },
   "execution_count": 13
  },
  {
   "cell_type": "markdown",
   "source": [
    "Checking why some keys are present in the online results but not in the dump versions.\n",
    "In particular, these are: ['motifdb_id', 'motifdb_url', 'merged'] (the ignore keys in the assert above)."
   ],
   "metadata": {
    "collapsed": false
   }
  },
  {
   "cell_type": "code",
   "outputs": [],
   "source": [
    "# key_to_compare = 'gnps_motif_0.m2m'\n",
    "# \n",
    "# # Ensure the key exists in both metadata dictionaries\n",
    "# if key_to_compare in motifdb_metadata and key_to_compare in loaded_metadata:\n",
    "#     # Iterate through all sub-keys in the motifdb_metadata for the specific motif\n",
    "#     for sub_key in motifdb_metadata[key_to_compare]:\n",
    "#         motifdb_value = motifdb_metadata[key_to_compare].get(sub_key, \"Not Present\")\n",
    "#         loaded_value = loaded_metadata[key_to_compare].get(sub_key, \"Not Present\")\n",
    "#         # Check for mismatch and print\n",
    "#         if motifdb_value != loaded_value:\n",
    "#             print(f\"Mismatch found for sub-key: {sub_key}\")\n",
    "#             print(f\"  motifdb_metadata value: {motifdb_value}\")\n",
    "#             print(f\"  loaded_metadata value: {loaded_value}\")\n",
    "#         else:\n",
    "#             print(f\"Match found for sub-key: {sub_key}\")\n",
    "#             print(f\"  Both values: {motifdb_value}\")\n",
    "# else:\n",
    "#     print(f\"Key '{key_to_compare}' not found in one of the dictionaries.\")\n"
   ],
   "metadata": {
    "collapsed": false,
    "ExecuteTime": {
     "end_time": "2024-03-24T12:10:24.468623Z",
     "start_time": "2024-03-24T12:10:24.467077Z"
    }
   },
   "execution_count": 14
  },
  {
   "cell_type": "code",
   "outputs": [],
   "source": [
    "# key_to_inspect = 'gnps_motif_38.m2m'\n",
    "# \n",
    "# # Checking if the key exists in both dictionaries\n",
    "# if key_to_inspect in motifdb_metadata and key_to_inspect in loaded_metadata:\n",
    "#     print(f\"Inspecting differences for '{key_to_inspect}'...\\n\")\n",
    "#     \n",
    "#     # Extracting sub-keys from both dictionaries for the specific key\n",
    "#     motifdb_sub_keys = set(motifdb_metadata[key_to_inspect].keys())\n",
    "#     loaded_sub_keys = set(loaded_metadata[key_to_inspect].keys())\n",
    "#     \n",
    "#     # Finding the union of sub-keys to ensure no key is missed\n",
    "#     all_sub_keys = motifdb_sub_keys.union(loaded_sub_keys)\n",
    "#     \n",
    "#     # Iterating over each sub-key to print values side by side\n",
    "#     for sub_key in sorted(all_sub_keys):  # Sorted for consistent order\n",
    "#         motifdb_value = motifdb_metadata[key_to_inspect].get(sub_key, \"Not Present\")\n",
    "#         loaded_value = loaded_metadata[key_to_inspect].get(sub_key, \"Not Present\")\n",
    "#         \n",
    "#         # Printing values side by side\n",
    "#         print(f\"Sub-key: {sub_key}\")\n",
    "#         print(f\"  motifdb_metadata: {motifdb_value}\")\n",
    "#         print(f\"  loaded_metadata: {loaded_value}\\n\")\n",
    "# else:\n",
    "#     print(f\"Key '{key_to_inspect}' not found in one of the dictionaries.\")\n"
   ],
   "metadata": {
    "collapsed": false,
    "ExecuteTime": {
     "end_time": "2024-03-24T12:10:24.470894Z",
     "start_time": "2024-03-24T12:10:24.469261Z"
    }
   },
   "execution_count": 15
  },
  {
   "cell_type": "code",
   "outputs": [],
   "source": [],
   "metadata": {
    "collapsed": false,
    "ExecuteTime": {
     "end_time": "2024-03-24T12:10:24.472665Z",
     "start_time": "2024-03-24T12:10:24.471490Z"
    }
   },
   "execution_count": 15
  }
 ],
 "metadata": {
  "kernelspec": {
   "display_name": "Python 3 (ipykernel)",
   "language": "python",
   "name": "python3"
  },
  "language_info": {
   "codemirror_mode": {
    "name": "ipython",
    "version": 3
   },
   "file_extension": ".py",
   "mimetype": "text/x-python",
   "name": "python",
   "nbconvert_exporter": "python",
   "pygments_lexer": "ipython3",
   "version": "3.12.2"
  }
 },
 "nbformat": 4,
 "nbformat_minor": 4
}
