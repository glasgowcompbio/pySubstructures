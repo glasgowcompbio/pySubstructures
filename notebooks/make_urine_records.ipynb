{
 "cells": [
  {
   "cell_type": "markdown",
   "metadata": {},
   "source": [
    "Mucky notebook to pull annotated motifs from ms2lda.org"
   ]
  },
  {
   "cell_type": "code",
   "execution_count": 1,
   "metadata": {
    "collapsed": true
   },
   "outputs": [],
   "source": [
    "import csv\n",
    "import requests"
   ]
  },
  {
   "cell_type": "markdown",
   "metadata": {},
   "source": [
    "Run one of the three cells below, depending on the experiment of choice"
   ]
  },
  {
   "cell_type": "code",
   "execution_count": 9,
   "metadata": {
    "collapsed": true
   },
   "outputs": [],
   "source": [
    "experiment_id = 93  # which experiment\n",
    "out_path = '/Users/simon/git/motifdb/motifs/urine_converted_to_005/'  # where to save the m2m files\n",
    "prefix = 'urine'  # what to append to the name (i.e. to avoid lots of things called motif_x.m2m)\n",
    "description = '#COMMENT Derived from Urine ms2lda experiment id={}'.format(experiment_id)"
   ]
  },
  {
   "cell_type": "code",
   "execution_count": 10,
   "metadata": {
    "collapsed": true
   },
   "outputs": [],
   "source": [
    "url = 'http://ms2lda.org/basicviz/get_annotated_topics/{}'.format(experiment_id)\n",
    "response = requests.get(url)"
   ]
  },
  {
   "cell_type": "code",
   "execution_count": 11,
   "metadata": {
    "collapsed": true
   },
   "outputs": [],
   "source": [
    "def round_mass(mass, bin_width=0.005):\n",
    "    # function to find the 0.005 bin for any mass\n",
    "    import numpy as np\n",
    "    bins_from_zero = mass / bin_width\n",
    "    integer_bins = np.floor(bins_from_zero)\n",
    "    lower_edge = integer_bins * bin_width\n",
    "    upper_edge = lower_edge + bin_width\n",
    "    center = (lower_edge + upper_edge) / 2.0\n",
    "    return \"{:.4f}\".format(center), lower_edge, upper_edge"
   ]
  },
  {
   "cell_type": "code",
   "execution_count": 12,
   "metadata": {
    "collapsed": true
   },
   "outputs": [],
   "source": [
    "annotations = {}\n",
    "spec = {}\n",
    "\n",
    "for name, annotation, short_annotation in response.json()[0]:\n",
    "    annotations[name] = (annotation, short_annotation)\n",
    "for name, s in response.json()[1]:\n",
    "    spec[name] = {}\n",
    "    for f, i in s:\n",
    "        tokens = f.split('_')\n",
    "        m = float(tokens[1])\n",
    "        sm, _, _ = round_mass(m)\n",
    "        new_feature = \"{}_{}\".format(tokens[0], sm)\n",
    "        spec[name][new_feature] = i"
   ]
  },
  {
   "cell_type": "code",
   "execution_count": 13,
   "metadata": {
    "collapsed": true
   },
   "outputs": [],
   "source": [
    "for name, (annotation, short_annotation) in annotations.items():\n",
    "    filename = out_path + prefix + '_' + name + '.m2m'\n",
    "    with open(filename, 'w') as f:\n",
    "        writer = csv.writer(f, delimiter=',', dialect='excel')\n",
    "        writer.writerow(['#NAME ' + prefix + '_' + name])\n",
    "        writer.writerow(['#ANNOTATION ' + \" \".join(annotation.encode('utf8').split(','))])\n",
    "        writer.writerow(\n",
    "            ['#SHORT_ANNOTATION ' + \" \".join(short_annotation.encode('utf8').split(','))])\n",
    "        writer.writerow([description])\n",
    "        s = zip(spec[name].keys(), spec[name].values())\n",
    "        s = sorted(s, key=lambda x: x[1], reverse=True)\n",
    "        for f, i in s:\n",
    "            writer.writerow([f, i])"
   ]
  },
  {
   "cell_type": "code",
   "execution_count": null,
   "metadata": {
    "collapsed": true
   },
   "outputs": [],
   "source": []
  }
 ],
 "metadata": {
  "kernelspec": {
   "display_name": "Python 2",
   "language": "python",
   "name": "python2"
  },
  "language_info": {
   "codemirror_mode": {
    "name": "ipython",
    "version": 2
   },
   "file_extension": ".py",
   "mimetype": "text/x-python",
   "name": "python",
   "nbconvert_exporter": "python",
   "pygments_lexer": "ipython2",
   "version": "2.7.10"
  }
 },
 "nbformat": 4,
 "nbformat_minor": 2
}