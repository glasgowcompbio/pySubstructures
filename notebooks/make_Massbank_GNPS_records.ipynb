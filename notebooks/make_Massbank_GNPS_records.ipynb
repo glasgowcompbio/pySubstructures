{
 "cells": [
  {
   "cell_type": "markdown",
   "metadata": {},
   "source": [
    "Mucky notebook to pull annotated motifs from ms2lda.org"
   ]
  },
  {
   "cell_type": "code",
   "execution_count": 1,
   "metadata": {},
   "outputs": [],
   "source": [
    "import csv\n",
    "import requests"
   ]
  },
  {
   "cell_type": "code",
   "execution_count": 2,
   "metadata": {},
   "outputs": [],
   "source": [
    "import sys, os\n",
    "\n",
    "sys.path.append('..')"
   ]
  },
  {
   "cell_type": "code",
   "execution_count": 3,
   "metadata": {},
   "outputs": [],
   "source": [
    "from pySubstructures.ms2lda.common import create_if_not_exist"
   ]
  },
  {
   "cell_type": "markdown",
   "metadata": {},
   "source": [
    "Run one of the three cells below, depending on the experiment of choice"
   ]
  },
  {
   "cell_type": "code",
   "execution_count": 4,
   "metadata": {},
   "outputs": [],
   "source": [
    "base_dir = 'motifdb_test'"
   ]
  },
  {
   "cell_type": "code",
   "execution_count": 5,
   "metadata": {},
   "outputs": [],
   "source": [
    "# experiment_id = 390  # which experiment\n",
    "# out_path = os.path.join(base_dir, 'motifs', 'euphorbia')  # where to save the m2m files\n",
    "# prefix = 'euphorbia'  # what to append to the name (i.e. to avoid lots of things called motif_x.m2m)\n",
    "# description = '#COMMENT Derived from Louis Felix ms2lda experiment id={}'.format(experiment_id)"
   ]
  },
  {
   "cell_type": "code",
   "execution_count": 6,
   "metadata": {},
   "outputs": [],
   "source": [
    "experiment_id = 190  # which experiment\n",
    "out_path = os.path.join(base_dir, 'motifs', 'massbank_binned_005')  # where to save the m2m files\n",
    "prefix = 'mb'  # what to append to the name (i.e. to avoid lots of things called motif_x.m2m)\n",
    "description = '#COMMENT Derived from massbank_binned_005 ms2lda experiment id={}'.format(\n",
    "    experiment_id)"
   ]
  },
  {
   "cell_type": "code",
   "execution_count": 7,
   "metadata": {},
   "outputs": [],
   "source": [
    "# experiment_id = 191  # which experiment\n",
    "# out_path = os.path.join(base_dir, 'motifs', 'gnps_binned_005')  # where to save the m2m files\n",
    "# prefix = 'gnps'  # what to append to the name (i.e. to avoid lots of things called motif_x.m2m)\n",
    "# description = '#COMMENT Derived from gnps_binned_005 ms2lda experiment id={}'.format(experiment_id)"
   ]
  },
  {
   "cell_type": "code",
   "execution_count": 8,
   "metadata": {},
   "outputs": [
    {
     "name": "stderr",
     "output_type": "stream",
     "text": [
      "\u001b[32m2024-03-02 23:05:32.143\u001b[0m | \u001b[1mINFO    \u001b[0m | \u001b[36mpySubstructures.ms2lda.common\u001b[0m:\u001b[36mcreate_if_not_exist\u001b[0m:\u001b[36m34\u001b[0m - \u001b[1mCreated motifdb_test/motifs/massbank_binned_005\u001b[0m\n"
     ]
    }
   ],
   "source": [
    "create_if_not_exist(out_path)"
   ]
  },
  {
   "cell_type": "code",
   "execution_count": 9,
   "metadata": {},
   "outputs": [],
   "source": [
    "url = 'http://ms2lda.org/basicviz/get_annotated_topics/{}'.format(experiment_id)\n",
    "response = requests.get(url)"
   ]
  },
  {
   "cell_type": "code",
   "execution_count": 10,
   "metadata": {},
   "outputs": [],
   "source": [
    "annotations = {}\n",
    "spec = {}\n",
    "\n",
    "for name, annotation, short_annotation in response.json()[0]:\n",
    "    annotations[name] = (annotation, short_annotation)\n",
    "for name, s in response.json()[1]:\n",
    "    spec[name] = {}\n",
    "    for f, i in s:\n",
    "        spec[name][f] = i"
   ]
  },
  {
   "cell_type": "code",
   "execution_count": 11,
   "metadata": {},
   "outputs": [],
   "source": [
    "for name, (annotation, short_annotation) in annotations.items():\n",
    "    filename = os.path.join(out_path, prefix + '_' + name + '.m2m')\n",
    "    with open(filename, 'w', newline='') as f: # open the file with newline=''\n",
    "        writer = csv.writer(f, delimiter=',', lineterminator='\\n', dialect='excel') # use '\\n' as the line terminator\n",
    "        writer.writerow(['#NAME ' + prefix + '_' + name])\n",
    "        writer.writerow(['#ANNOTATION ' + \" \".join(annotation.split(','))])\n",
    "        writer.writerow(['#SHORT_ANNOTATION ' + \" \".join(short_annotation.split(','))])\n",
    "        writer.writerow([description])\n",
    "        s = zip(spec[name].keys(), spec[name].values())\n",
    "        s = sorted(s, key=lambda x: x[1], reverse=True)\n",
    "        for f, i in s:\n",
    "            writer.writerow([f, i])"
   ]
  },
  {
   "cell_type": "markdown",
   "metadata": {},
   "source": [
    "Now again but retrieving the data from motifsets"
   ]
  },
  {
   "cell_type": "code",
   "execution_count": 12,
   "metadata": {},
   "outputs": [],
   "source": [
    "from pySubstructures.motifdb.constants import MOTIFDB_SERVER_URL"
   ]
  },
  {
   "cell_type": "code",
   "execution_count": 13,
   "metadata": {},
   "outputs": [
    {
     "name": "stderr",
     "output_type": "stream",
     "text": [
      "/Users/joewandy/anaconda3/envs/pySubstructures/lib/python3.12/site-packages/urllib3/connectionpool.py:1103: InsecureRequestWarning: Unverified HTTPS request is being made to host 'ms2lda.org'. Adding certificate verification is strongly advised. See: https://urllib3.readthedocs.io/en/latest/advanced-usage.html#tls-warnings\n",
      "  warnings.warn(\n"
     ]
    },
    {
     "data": {
      "text/plain": [
       "{'Urine derived Mass2Motifs': 1,\n",
       " 'GNPS library derived Mass2Motifs': 2,\n",
       " 'Massbank library derived Mass2Motifs': 4,\n",
       " 'Rhamnaceae Plant Mass2Motifs': 5,\n",
       " 'Euphorbia Plant Mass2Motifs': 3,\n",
       " 'LDB_NEG_MotifDB_02': 33,\n",
       " 'MIADB_pos_indole': 29,\n",
       " 'MIADB_pos_60': 30,\n",
       " 'MIADB_pos_100': 31,\n",
       " 'Streptomyces S29': 32,\n",
       " 'fragment_253.1925': 34,\n",
       " 'Tps6_motifs': 36,\n",
       " 'LDB_NEG_MotifDB_01': 17,\n",
       " 'MIADB_pos': 18,\n",
       " 'Streptomyces and Salinispora Mass2Motifs': 6,\n",
       " 'Photorhabdus and Xenorhabdus Mass2Motifs': 16,\n",
       " 'LDB MotifDB POS': 37,\n",
       " 'Planomonospora-associated Mass2Motifs': 38,\n",
       " 'Human Urine ESI_POS': 39,\n",
       " '20210810_16HT': 40,\n",
       " 'cholestane_glicoalkaloids': 64,\n",
       " 'Test25': 72,\n",
       " 'Aporphinic_alkaloids': 73,\n",
       " 'Urine derived Mass2Motifs 2': 74,\n",
       " 'NP_rings': 78,\n",
       " 'Test_FA': 75,\n",
       " 'Test_FA2': 76,\n",
       " 'DHA_motif': 77,\n",
       " 'test': 79,\n",
       " 'dlc': 80,\n",
       " 'Smka': 81}"
      ]
     },
     "execution_count": 13,
     "metadata": {},
     "output_type": "execute_result"
    }
   ],
   "source": [
    "motifset_dict = requests.get(MOTIFDB_SERVER_URL + 'list_motifsets/', verify=False).json()\n",
    "motifset_rev_dict = {value: key for key, value in motifset_dict.items()}\n",
    "motifset_dict"
   ]
  },
  {
   "cell_type": "code",
   "execution_count": 14,
   "metadata": {},
   "outputs": [
    {
     "data": {
      "text/plain": [
       "{1: 'Urine derived Mass2Motifs',\n",
       " 2: 'GNPS library derived Mass2Motifs',\n",
       " 4: 'Massbank library derived Mass2Motifs',\n",
       " 5: 'Rhamnaceae Plant Mass2Motifs',\n",
       " 3: 'Euphorbia Plant Mass2Motifs',\n",
       " 33: 'LDB_NEG_MotifDB_02',\n",
       " 29: 'MIADB_pos_indole',\n",
       " 30: 'MIADB_pos_60',\n",
       " 31: 'MIADB_pos_100',\n",
       " 32: 'Streptomyces S29',\n",
       " 34: 'fragment_253.1925',\n",
       " 36: 'Tps6_motifs',\n",
       " 17: 'LDB_NEG_MotifDB_01',\n",
       " 18: 'MIADB_pos',\n",
       " 6: 'Streptomyces and Salinispora Mass2Motifs',\n",
       " 16: 'Photorhabdus and Xenorhabdus Mass2Motifs',\n",
       " 37: 'LDB MotifDB POS',\n",
       " 38: 'Planomonospora-associated Mass2Motifs',\n",
       " 39: 'Human Urine ESI_POS',\n",
       " 40: '20210810_16HT',\n",
       " 64: 'cholestane_glicoalkaloids',\n",
       " 72: 'Test25',\n",
       " 73: 'Aporphinic_alkaloids',\n",
       " 74: 'Urine derived Mass2Motifs 2',\n",
       " 78: 'NP_rings',\n",
       " 75: 'Test_FA',\n",
       " 76: 'Test_FA2',\n",
       " 77: 'DHA_motif',\n",
       " 79: 'test',\n",
       " 80: 'dlc',\n",
       " 81: 'Smka'}"
      ]
     },
     "execution_count": 14,
     "metadata": {},
     "output_type": "execute_result"
    }
   ],
   "source": [
    "motifset_rev_dict"
   ]
  },
  {
   "cell_type": "code",
   "execution_count": 15,
   "metadata": {},
   "outputs": [
    {
     "data": {
      "text/plain": [
       "[4]"
      ]
     },
     "execution_count": 15,
     "metadata": {},
     "output_type": "execute_result"
    }
   ],
   "source": [
    "db_list = []\n",
    "db_list.append(4)\n",
    "db_list = list(set(db_list))\n",
    "db_list"
   ]
  },
  {
   "cell_type": "code",
   "execution_count": 16,
   "metadata": {},
   "outputs": [],
   "source": [
    "from pySubstructures.motifdb.main import acquire_motifdb\n",
    "\n",
    "ft = 0.95\n",
    "motifdb_spectra, motifdb_metadata, motifdb_features = acquire_motifdb(db_list, filter_threshold=ft)"
   ]
  },
  {
   "cell_type": "code",
   "execution_count": 17,
   "metadata": {},
   "outputs": [],
   "source": [
    "def save_motifs_to_files(motifdb_spectra, motifdb_metadata, output_dir):\n",
    "    for motif_name in motifdb_spectra:\n",
    "        file_path = os.path.join(output_dir, motif_name)\n",
    "        with open(file_path, 'w') as f:\n",
    "            f.write(\"#NAME {}\\n\".format(motifdb_metadata[motif_name]['name']))\n",
    "            f.write(\"#ANNOTATION {}\\n\".format(motifdb_metadata[motif_name]['annotation']))\n",
    "            f.write(\"#SHORT_ANNOTATION {}\\n\".format(motifdb_metadata[motif_name]['short_annotation']))\n",
    "            f.write(\"#COMMENT {}\\n\".format(motifdb_metadata[motif_name]['comment']))\n",
    "\n",
    "            # Sort the fragments by value in descending order\n",
    "            sorted_spectra = sorted(motifdb_spectra[motif_name].items(), key=lambda x: x[1], reverse=True)\n",
    "\n",
    "            for fragment, value in sorted_spectra:\n",
    "                f.write(\"{},{}\\n\".format(fragment, value))"
   ]
  },
  {
   "cell_type": "code",
   "execution_count": 18,
   "metadata": {},
   "outputs": [
    {
     "name": "stderr",
     "output_type": "stream",
     "text": [
      "\u001b[32m2024-03-02 23:05:36.184\u001b[0m | \u001b[1mINFO    \u001b[0m | \u001b[36mpySubstructures.ms2lda.common\u001b[0m:\u001b[36mcreate_if_not_exist\u001b[0m:\u001b[36m34\u001b[0m - \u001b[1mCreated motifdb_test/motifs/Massbank library derived Mass2Motifs\u001b[0m\n"
     ]
    }
   ],
   "source": [
    "new_out_path = os.path.join(base_dir, 'motifs', motifset_rev_dict[db_list[0]])  # where to save the m2m files\n",
    "create_if_not_exist(new_out_path)"
   ]
  },
  {
   "cell_type": "code",
   "execution_count": 19,
   "metadata": {},
   "outputs": [],
   "source": [
    "save_motifs_to_files(motifdb_spectra, motifdb_metadata, new_out_path)"
   ]
  },
  {
   "cell_type": "markdown",
   "metadata": {},
   "source": [
    "Now try to load back"
   ]
  },
  {
   "cell_type": "code",
   "execution_count": 20,
   "metadata": {},
   "outputs": [
    {
     "data": {
      "text/plain": [
       "('motifdb_test/motifs/massbank_binned_005',\n",
       " 'motifdb_test/motifs/Massbank library derived Mass2Motifs')"
      ]
     },
     "execution_count": 20,
     "metadata": {},
     "output_type": "execute_result"
    }
   ],
   "source": [
    "out_path, new_out_path"
   ]
  },
  {
   "cell_type": "code",
   "execution_count": 21,
   "metadata": {},
   "outputs": [],
   "source": [
    "from pySubstructures.motifdb.main import load_db"
   ]
  },
  {
   "cell_type": "code",
   "execution_count": 22,
   "metadata": {},
   "outputs": [
    {
     "data": {
      "text/plain": [
       "('motifdb_test/motifs', ['Massbank library derived Mass2Motifs'])"
      ]
     },
     "execution_count": 22,
     "metadata": {},
     "output_type": "execute_result"
    }
   ],
   "source": [
    "db_path = os.path.join(base_dir, 'motifs')\n",
    "db_list2 = [motifset_rev_dict[x] for x in db_list]\n",
    "db_path, db_list2"
   ]
  },
  {
   "cell_type": "code",
   "execution_count": 23,
   "metadata": {},
   "outputs": [
    {
     "name": "stdout",
     "output_type": "stream",
     "text": [
      "Looking in motifdb_test/motifs/Massbank library derived Mass2Motifs/*.m2m\n",
      "\t Found 45\n",
      "Found total of 45 motif files\n"
     ]
    }
   ],
   "source": [
    "spectra, metadata, features = load_db(db_list2, db_path)"
   ]
  },
  {
   "cell_type": "code",
   "execution_count": 24,
   "metadata": {},
   "outputs": [
    {
     "data": {
      "text/plain": [
       "{'mb_motif_43.m2m': {'fragment_110.0725': 0.30966560312175,\n",
       "  'loss_133.0375': 0.173115890360813,\n",
       "  'loss_117.0425': 0.057638683996571,\n",
       "  'fragment_383.0825': 0.0576385553789,\n",
       "  'fragment_163.0375': 0.0453627047818082,\n",
       "  'fragment_221.0475': 0.0396570841250579,\n",
       "  'loss_162.0325': 0.039657082982158,\n",
       "  'loss_198.0425': 0.0348735517092057,\n",
       "  'fragment_185.0275': 0.0348735517092057,\n",
       "  'fragment_156.0775': 0.0318551066625224,\n",
       "  'fragment_383.0775': 0.0220214104047853,\n",
       "  'loss_71.0375': 0.0185003371208723,\n",
       "  'fragment_225.0975': 0.012281492843762,\n",
       "  'loss_18.0125': 0.0122814916480892,\n",
       "  'fragment_210.0925': 0.011935777877902,\n",
       "  'fragment_163.0975': 0.0107253579829496,\n",
       "  'fragment_383.1875': 0.00888110453507906,\n",
       "  'fragment_221.1325': 0.00825754845029459,\n",
       "  'loss_161.9475': 0.00824714241388922,\n",
       "  'fragment_221.0425': 0.00795897781369383,\n",
       "  'fragment_185.0975': 0.00767081321374843,\n",
       "  'loss_197.9775': 0.00767081321374843,\n",
       "  'fragment_243.1075': 0.00726742876959542,\n",
       "  'fragment_185.0225': 0.00709448401472935,\n",
       "  'loss_198.0525': 0.00709448401472935,\n",
       "  'fragment_203.0375': 0.00599945854084122,\n",
       "  'loss_180.0425': 0.00599945854084122,\n",
       "  'fragment_89.0375': 0.00577460377245799},\n",
       " 'mb_motif_42.m2m': {'fragment_287.0575': 0.797557373027937,\n",
       "  'fragment_595.1675': 0.0304875857140715,\n",
       "  'fragment_449.1075': 0.0226842382324655,\n",
       "  'fragment_763.2075': 0.0211762259249717,\n",
       "  'fragment_200.1175': 0.0211680067749804,\n",
       "  'fragment_617.1475': 0.0208592691794335,\n",
       "  'fragment_288.0575': 0.0155494700074649,\n",
       "  'fragment_85.0275': 0.0140942016676259,\n",
       "  'fragment_287.1425': 0.013013381324745,\n",
       "  'fragment_433.1125': 0.0100579653168795,\n",
       "  'loss_124.0725': 0.00769556180171081,\n",
       "  'fragment_743.2025': 0.0073711108248828,\n",
       "  'fragment_741.2225': 0.00660805782709516,\n",
       "  'fragment_331.0975': 0.00487173112870461,\n",
       "  'fragment_596.1675': 0.00326215974991363,\n",
       "  'fragment_85.0225': 0.00195818358477601,\n",
       "  'fragment_289.0625': 0.00158547791234159},\n",
       " 'mb_motif_40.m2m': {'loss_146.0575': 0.736995970479206,\n",
       "  'fragment_579.1725': 0.110817122989558,\n",
       "  'loss_145.0525': 0.0227472679176281,\n",
       "  'fragment_433.1075': 0.0167977674769767,\n",
       "  'fragment_71.0525': 0.012313150750576,\n",
       "  'fragment_129.0525': 0.0118911508502172,\n",
       "  'fragment_580.1725': 0.010763245867786,\n",
       "  'loss_145.5875': 0.0102769667159602,\n",
       "  'fragment_303.5225': 0.0102769667159602,\n",
       "  'fragment_471.0925': 0.0065974720857693,\n",
       "  'fragment_147.0675': 0.00636587270635384,\n",
       "  'fragment_85.0225': 0.00635786904664379,\n",
       "  'fragment_71.0375': 0.00426622947657989,\n",
       "  'fragment_129.0575': 0.00423282426732788,\n",
       "  'loss_124.0725': 0.00419341708751493,\n",
       "  'loss_145.9575': 0.0029327051923333,\n",
       "  'loss_145.9725': 0.00270480965501896,\n",
       "  'fragment_433.1125': 0.00269578392190351,\n",
       "  'fragment_325.0325': 0.00257060063251844,\n",
       "  'fragment_581.1775': 0.00250274915739307,\n",
       "  'fragment_303.1475': 0.00225810377695549,\n",
       "  'loss_192.0675': 0.00215675088506304,\n",
       "  'loss_144.0525': 0.0021417281772682,\n",
       "  'fragment_303.1375': 0.00203835305328309,\n",
       "  'loss_164.0675': 0.00197669870208682,\n",
       "  'loss_145.0475': 0.00112842241211779},\n",
       " 'mb_motif_41.m2m': {'loss_162.0525': 0.956154675691232,\n",
       "  'fragment_340.1975': 0.0235701357988863,\n",
       "  'loss_161.0475': 0.00806236542120735,\n",
       "  'fragment_297.1475': 0.00610641154433702,\n",
       "  'loss_43.0425': 0.00610641154433702},\n",
       " 'mb_motif_195.m2m': {'loss_45.0225': 0.297131916548733,\n",
       "  'fragment_225.0525': 0.071198710691667,\n",
       "  'fragment_98.0625': 0.0706788896239056,\n",
       "  'loss_94.0425': 0.070324576417393,\n",
       "  'fragment_308.0925': 0.0700723171677232,\n",
       "  'fragment_126.0925': 0.0699382345540446,\n",
       "  'fragment_154.0875': 0.0225248528645713,\n",
       "  'fragment_126.0575': 0.0171210082318682,\n",
       "  'loss_73.0175': 0.0123148916158057,\n",
       "  'fragment_309.0925': 0.0091679857514601,\n",
       "  'fragment_69.0325': 0.00695525174126167,\n",
       "  'fragment_50.0125': 0.0068070219115583,\n",
       "  'loss_74.0475': 0.00456843254332473,\n",
       "  'fragment_153.0675': 0.00414597291734663,\n",
       "  'loss_166.0275': 0.00399176191864444,\n",
       "  'fragment_615.1775': 0.00378328016135768,\n",
       "  'fragment_152.0625': 0.00347010610446218,\n",
       "  'loss_167.0325': 0.00343234854054761,\n",
       "  'fragment_115.0525': 0.00324173461924526,\n",
       "  'loss_102.0775': 0.00293796641586583,\n",
       "  'fragment_310.0875': 0.00287417402276896,\n",
       "  'fragment_141.0675': 0.00246515332687493,\n",
       "  'loss_178.0275': 0.00245331238897334,\n",
       "  'fragment_197.0575': 0.00232483171139131,\n",
       "  'loss_122.0375': 0.00231336806814304,\n",
       "  'fragment_224.1275': 0.00182520540132043,\n",
       "  'loss_83.9625': 0.00182520540132043,\n",
       "  'fragment_98.0975': 0.00168534291846063,\n",
       "  'fragment_105.0325': 0.0015532174640454,\n",
       "  'fragment_171.1125': 0.00154548043560083,\n",
       "  'fragment_169.0625': 0.00138003778389959,\n",
       "  'loss_150.0325': 0.00133490687479986,\n",
       "  'fragment_290.0825': 0.00127115748190476,\n",
       "  'loss_18.0075': 0.00126575546988122},\n",
       " 'mb_motif_34.m2m': {'loss_36.0225': 1.0},\n",
       " 'mb_motif_20.m2m': {'fragment_147.0425': 0.40748031496063,\n",
       "  'fragment_119.0475': 0.348796612687565,\n",
       "  'fragment_91.0525': 0.17831674342594,\n",
       "  'fragment_65.0375': 0.0654063289258654},\n",
       " 'mb_motif_6.m2m': {'loss_17.0275': 1.0},\n",
       " 'mb_motif_7.m2m': {'fragment_72.0825': 1.0},\n",
       " 'mb_motif_21.m2m': {'fragment_136.0625': 0.945871498738882,\n",
       "  'fragment_119.0375': 0.0541285012611178},\n",
       " 'mb_motif_35.m2m': {'fragment_84.0825': 0.910573077827841,\n",
       "  'fragment_56.0475': 0.0711325841883358,\n",
       "  'fragment_67.0525': 0.0182943379838228},\n",
       " 'mb_motif_23.m2m': {'loss_132.0425': 1.0},\n",
       " 'mb_motif_37.m2m': {'fragment_120.0825': 0.960131989332369,\n",
       "  'fragment_91.0525': 0.0371106992722506,\n",
       "  'fragment_103.0525': 0.00275731139538037},\n",
       " 'mb_motif_5.m2m': {'fragment_114.0925': 0.589640739448901,\n",
       "  'loss_59.0375': 0.185036623648413,\n",
       "  'fragment_72.0425': 0.137949075688873,\n",
       "  'fragment_60.0425': 0.0873735612138124},\n",
       " 'mb_motif_4.m2m': {'loss_15.0225': 0.7012686132026,\n",
       "  'loss_16.0325': 0.070814036475226,\n",
       "  'fragment_200.0075': 0.0691634718339966,\n",
       "  'fragment_184.9775': 0.048398894582458,\n",
       "  'fragment_183.9775': 0.03405443355315,\n",
       "  'fragment_104.0475': 0.00905294034539566,\n",
       "  'fragment_105.0575': 0.00801735999635405,\n",
       "  'loss_78.9175': 0.00758584907400527,\n",
       "  'fragment_121.0875': 0.00743006647773379,\n",
       "  'loss_94.9475': 0.00611679066087989,\n",
       "  'loss_95.9575': 0.006014427588717,\n",
       "  'fragment_106.0675': 0.0039858952043776,\n",
       "  'loss_17.0525': 0.00344104736127243,\n",
       "  'fragment_76.0325': 0.00290065559146994,\n",
       "  'fragment_77.0375': 0.00285156394474045,\n",
       "  'fragment_182.9575': 0.00259907972459604,\n",
       "  'loss_123.9725': 0.00229169841682516,\n",
       "  'loss_93.9425': 0.00223071687688203,\n",
       "  'fragment_105.0425': 0.00174263280221705,\n",
       "  'fragment_65.0375': 0.00173673591926164,\n",
       "  'loss_30.0475': 0.0017084904063245,\n",
       "  'fragment_79.0525': 0.00145621715954488,\n",
       "  'fragment_95.0475': 0.00144871739043908,\n",
       "  'loss_122.9675': 0.00130124753623009,\n",
       "  'loss_120.9525': 0.0012031135335374,\n",
       "  'fragment_78.0475': 0.00118530434176573},\n",
       " 'mb_motif_36.m2m': {'fragment_74.0225': 0.427841864936313,\n",
       "  'fragment_88.0375': 0.374369142033165,\n",
       "  'fragment_87.0575': 0.132840663302091,\n",
       "  'fragment_70.0275': 0.0649483297284307},\n",
       " 'mb_motif_22.m2m': {'loss_18.0125': 1.0},\n",
       " 'mb_motif_150.m2m': {'loss_42.0125': 0.566915606744518,\n",
       "  'loss_88.0175': 0.0514781821493192,\n",
       "  'fragment_134.0425': 0.0429308265743009,\n",
       "  'fragment_234.1475': 0.0292449143770971,\n",
       "  'loss_63.1525': 0.0292410326485684,\n",
       "  'fragment_265.0025': 0.0292034801218794,\n",
       "  'loss_102.0325': 0.0229421851609917,\n",
       "  'fragment_237.0025': 0.0180586713644259,\n",
       "  'fragment_116.0325': 0.01795982900618,\n",
       "  'loss_91.1525': 0.0179486828432865,\n",
       "  'loss_31.1525': 0.0060274589459119,\n",
       "  'fragment_297.0025': 0.00602152461271631,\n",
       "  'fragment_130.0475': 0.00472430645408379,\n",
       "  'fragment_158.0425': 0.0047115756357661,\n",
       "  'fragment_282.0025': 0.00375331618108181,\n",
       "  'fragment_205.0025': 0.00374425726496558,\n",
       "  'loss_123.1525': 0.00372844906314933,\n",
       "  'loss_46.1525': 0.00370715988080904,\n",
       "  'fragment_233.0025': 0.00359606344540734,\n",
       "  'loss_95.1525': 0.00354266118996304,\n",
       "  'loss_106.0275': 0.00278859991291241,\n",
       "  'fragment_43.9975': 0.00249879696230027,\n",
       "  'fragment_46.0275': 0.00248801856908979,\n",
       "  'loss_62.1525': 0.00220827522461705,\n",
       "  'fragment_266.0025': 0.0022028878597812,\n",
       "  'loss_86.0725': 0.00219200362868501,\n",
       "  'fragment_99.0075': 0.00178694768060403,\n",
       "  'loss_77.0475': 0.00178694768060403,\n",
       "  'fragment_176.0575': 0.00137749976688134,\n",
       "  'loss_59.0125': 0.00132998603404899,\n",
       "  'loss_78.0325': 0.00130088707416284,\n",
       "  'fragment_175.1375': 0.00125623646335798,\n",
       "  'loss_58.0075': 0.0010149711906699},\n",
       " 'mb_motif_26.m2m': {'fragment_98.9825': 1.0},\n",
       " 'mb_motif_32.m2m': {'fragment_177.0525': 0.308592392353736,\n",
       "  'fragment_115.0525': 0.236763854025874,\n",
       "  'fragment_145.0275': 0.222475381347751,\n",
       "  'fragment_117.0325': 0.186947287121066,\n",
       "  'fragment_149.0575': 0.0452210851515737},\n",
       " 'mb_motif_0.m2m': {'fragment_86.0975': 0.942535719546325,\n",
       "  'fragment_132.1025': 0.0574642804536751},\n",
       " 'mb_motif_1.m2m': {'fragment_116.0725': 0.823553235532355,\n",
       "  'loss_115.0625': 0.176446764467645},\n",
       " 'mb_motif_33.m2m': {'fragment_152.0575': 0.608179684880992,\n",
       "  'fragment_153.0425': 0.234730137445525,\n",
       "  'fragment_110.0375': 0.0738183037210862,\n",
       "  'fragment_135.0275': 0.0677841099564197,\n",
       "  'fragment_55.0275': 0.0154877639959772},\n",
       " 'mb_motif_27.m2m': {'loss_60.0225': 1.0},\n",
       " 'mb_motif_19.m2m': {'fragment_121.0625': 0.617444825463818,\n",
       "  'fragment_103.0525': 0.154066649081157,\n",
       "  'fragment_53.0375': 0.120478325859492,\n",
       "  'fragment_91.0525': 0.106409918227381,\n",
       "  'fragment_93.0675': 0.00160028136815264},\n",
       " 'mb_motif_31.m2m': {'fragment_83.0625': 0.681027966742253,\n",
       "  'fragment_129.0675': 0.204837490551776,\n",
       "  'fragment_56.0475': 0.114134542705971},\n",
       " 'mb_motif_25.m2m': {'fragment_110.0725': 0.745965620066655,\n",
       "  'fragment_93.0425': 0.135107875811261,\n",
       "  'fragment_156.0775': 0.0947640764778109,\n",
       "  'fragment_95.0625': 0.0241624276442729},\n",
       " 'mb_motif_3.m2m': {'fragment_70.0675': 1.0},\n",
       " 'mb_motif_24.m2m': {'fragment_85.0275': 0.7253138844625,\n",
       "  'fragment_68.0275': 0.134668254329592,\n",
       "  'fragment_97.0275': 0.112779519148265,\n",
       "  'fragment_127.0375': 0.0272383420596424},\n",
       " 'mb_motif_30.m2m': {'fragment_91.0525': 1.0},\n",
       " 'mb_motif_18.m2m': {'loss_27.9925': 0.936637498703006,\n",
       "  'loss_55.9875': 0.0398090824196728,\n",
       "  'loss_54.0125': 0.0235534188773216},\n",
       " 'mb_motif_15.m2m': {'loss_46.0075': 1.0},\n",
       " 'mb_motif_29.m2m': {'loss_180.0625': 0.62851269921721,\n",
       "  'loss_198.0775': 0.244438812862533,\n",
       "  'fragment_69.0325': 0.0670439826547277,\n",
       "  'fragment_81.0325': 0.0600045052655291},\n",
       " 'mb_motif_28.m2m': {'loss_87.0325': 0.20998030468078,\n",
       "  'loss_59.0375': 0.196364433723111,\n",
       "  'fragment_146.0625': 0.133513746210507,\n",
       "  'fragment_188.0725': 0.0986075065396837,\n",
       "  'fragment_118.0675': 0.087471042925702,\n",
       "  'loss_73.0525': 0.0379175339831206,\n",
       "  'loss_61.0175': 0.0267512649436556,\n",
       "  'fragment_132.0825': 0.0256104750101921,\n",
       "  'loss_31.0425': 0.0243543344387498,\n",
       "  'loss_17.0275': 0.0243542376283188,\n",
       "  'fragment_144.0825': 0.0229774408591117,\n",
       "  'loss_75.0325': 0.0185748210617972,\n",
       "  'loss_101.0475': 0.0143816695302083,\n",
       "  'loss_73.0175': 0.0115465075567695,\n",
       "  'loss_62.0275': 0.0100574419097712,\n",
       "  'fragment_170.0625': 0.00747839500408057,\n",
       "  'fragment_142.0675': 0.00742497547481835,\n",
       "  'loss_90.0425': 0.00619355677053896,\n",
       "  'fragment_159.0925': 0.00607327459607282,\n",
       "  'loss_35.0375': 0.00552974142076042,\n",
       "  'loss_88.0375': 0.00509483249803179,\n",
       "  'fragment_117.0575': 0.00412901725958523,\n",
       "  'loss_46.0075': 0.00336236267400452,\n",
       "  'fragment_189.0675': 0.00243347368012712,\n",
       "  'loss_16.0225': 0.00241261961169129,\n",
       "  'loss_58.0375': 0.00231541046015241,\n",
       "  'fragment_147.0625': 0.00229533566101999,\n",
       "  'loss_86.0325': 0.00140442954365423,\n",
       "  'fragment_119.0675': 0.00138981434398425},\n",
       " 'mb_motif_14.m2m': {'loss_63.0325': 0.966237942122186,\n",
       "  'loss_91.0275': 0.0337620578778135},\n",
       " 'mb_motif_16.m2m': {'fragment_303.0525': 0.736440243344678,\n",
       "  'fragment_611.1625': 0.0833988713465048,\n",
       "  'fragment_465.1025': 0.0323855588670975,\n",
       "  'fragment_449.1075': 0.0298353430996692,\n",
       "  'fragment_304.0525': 0.027858032545893,\n",
       "  'fragment_237.1575': 0.0209852798422259,\n",
       "  'fragment_612.1625': 0.0150525904719875,\n",
       "  'fragment_257.0425': 0.00733369345687581,\n",
       "  'fragment_229.0475': 0.00511863971333858,\n",
       "  'fragment_466.1075': 0.00377805618764207,\n",
       "  'loss_161.0475': 0.00362297239282334,\n",
       "  'fragment_165.0175': 0.00330901077166417,\n",
       "  'loss_162.0525': 0.0030774375476773,\n",
       "  'fragment_305.0575': 0.00295954006179093,\n",
       "  'fragment_613.1675': 0.00241587580884031,\n",
       "  'fragment_612.1775': 0.00239510016405965,\n",
       "  'fragment_73.0275': 0.00218518779209999,\n",
       "  'fragment_285.0375': 0.00193151817426116,\n",
       "  'loss_77.0625': 0.00186227952889788,\n",
       "  'fragment_160.0975': 0.00186222720097376,\n",
       "  'fragment_145.0475': 0.00180665363638338,\n",
       "  'fragment_247.0625': 0.00172004028696763,\n",
       "  'fragment_450.1125': 0.00163503591732122,\n",
       "  'loss_119.0725': 0.00154688931580196,\n",
       "  'fragment_465.0975': 0.00145049449024121,\n",
       "  'loss_146.0675': 0.00145049449024121,\n",
       "  'loss_167.0925': 0.00135248041966283,\n",
       "  'loss_133.1125': 0.00123045312437997},\n",
       " 'mb_motif_17.m2m': {'fragment_84.0425': 0.893422585512118,\n",
       "  'fragment_56.0475': 0.106577414487882},\n",
       " 'mb_motif_13.m2m': {'fragment_105.0675': 0.837644065836641,\n",
       "  'fragment_79.0525': 0.12030220097907,\n",
       "  'fragment_53.0375': 0.0420537331842886},\n",
       " 'mb_motif_9.m2m': {'loss_150.0525': 1.0},\n",
       " 'mb_motif_8.m2m': {'fragment_87.0425': 0.991241280913126,\n",
       "  'loss_86.0375': 0.00875871908687381},\n",
       " 'mb_motif_12.m2m': {'loss_88.0525': 0.160609649143636,\n",
       "  'fragment_44.0525': 0.143502462633599,\n",
       "  'fragment_41.0375': 0.0809993060268306,\n",
       "  'loss_91.0625': 0.0731850319664714,\n",
       "  'loss_75.0425': 0.0639437979116889,\n",
       "  'fragment_132.1025': 0.0629161765379773,\n",
       "  'fragment_57.0575': 0.0628581108511053,\n",
       "  'fragment_43.0525': 0.0523137379610968,\n",
       "  'loss_89.0475': 0.043414499344828,\n",
       "  'loss_76.0525': 0.0420647996177207,\n",
       "  'fragment_56.0475': 0.041146690614767,\n",
       "  'loss_63.0275': 0.0383204166254713,\n",
       "  'fragment_132.1075': 0.0178723381041095,\n",
       "  'loss_93.0775': 0.0160328602530992,\n",
       "  'fragment_45.0325': 0.0133522365362296,\n",
       "  'loss_87.0675': 0.0133522365362296,\n",
       "  'loss_77.0425': 0.0109128166424531,\n",
       "  'fragment_55.0575': 0.0109128166424531,\n",
       "  'loss_74.0375': 0.0105544115734756,\n",
       "  'fragment_58.0675': 0.0101235925591724,\n",
       "  'fragment_39.0225': 0.00998009727130323,\n",
       "  'fragment_43.0575': 0.00653621036244229,\n",
       "  'fragment_86.1025': 0.00395329518079661,\n",
       "  'loss_46.0025': 0.00395329518079661,\n",
       "  'fragment_55.0175': 0.0035945569611236,\n",
       "  'loss_77.0825': 0.0035945569611236},\n",
       " 'mb_motif_38.m2m': {'fragment_81.0325': 0.770386952350495,\n",
       "  'fragment_53.0375': 0.223892264506272,\n",
       "  'fragment_109.0275': 0.00572078314323277},\n",
       " 'mb_motif_10.m2m': {'loss_42.0475': 0.55184487580366,\n",
       "  'fragment_188.0725': 0.0561545398071991,\n",
       "  'fragment_146.0225': 0.0513404536048232,\n",
       "  'fragment_200.0975': 0.0452994764005943,\n",
       "  'fragment_177.1025': 0.0452307075106557,\n",
       "  'loss_84.0925': 0.0345436826433237,\n",
       "  'fragment_80.0475': 0.0295390793575624,\n",
       "  'loss_97.0525': 0.0279262927076406,\n",
       "  'fragment_242.1425': 0.0256925680787928,\n",
       "  'fragment_158.0475': 0.024224488842302,\n",
       "  'fragment_230.1175': 0.0202876539938135,\n",
       "  'fragment_104.0025': 0.0116939134548245,\n",
       "  'loss_79.0425': 0.0106237571458195,\n",
       "  'loss_84.0675': 0.0105675569356968,\n",
       "  'fragment_79.0075': 0.00806692331214454,\n",
       "  'fragment_68.0225': 0.00647249175394585,\n",
       "  'loss_109.0625': 0.0057237824387852,\n",
       "  'loss_126.1175': 0.00571551070458089,\n",
       "  'fragment_116.0275': 0.0035360515460385,\n",
       "  'fragment_110.0475': 0.00336733155336664,\n",
       "  'loss_120.0475': 0.00270841151503122,\n",
       "  'loss_151.1125': 0.00258740880851364,\n",
       "  'loss_78.0225': 0.00232118275297177,\n",
       "  'fragment_85.0525': 0.00226106547057364,\n",
       "  'loss_174.1175': 0.00217327227367776,\n",
       "  'loss_157.0875': 0.00212804338891835,\n",
       "  'fragment_149.0725': 0.00147558424122594,\n",
       "  'loss_107.0375': 0.00143973582684113,\n",
       "  'loss_162.0925': 0.00142698803590418,\n",
       "  'fragment_146.0625': 0.00127933666765789,\n",
       "  'loss_124.0625': 0.00126627675216096,\n",
       "  'loss_168.1375': 0.0010815566709537},\n",
       " 'mb_motif_11.m2m': {'fragment_225.1225': 0.141176544337592,\n",
       "  'fragment_267.1725': 0.0829641635036653,\n",
       "  'fragment_190.0875': 0.0702711802739026,\n",
       "  'loss_77.0825': 0.0639396818569593,\n",
       "  'loss_42.0475': 0.0590717920997221,\n",
       "  'loss_60.0575': 0.0444869174422374,\n",
       "  'fragment_168.0425': 0.0414834376709761,\n",
       "  'fragment_208.0975': 0.0404718994572792,\n",
       "  'loss_61.0275': 0.0396997894929543,\n",
       "  'fragment_167.0725': 0.0396993404363636,\n",
       "  'loss_98.0375': 0.0381650194210919,\n",
       "  'fragment_145.0625': 0.0344478036078537,\n",
       "  'loss_151.0625': 0.0250163755126202,\n",
       "  'fragment_116.1075': 0.0147654292693742,\n",
       "  'fragment_133.0625': 0.0144365548610294,\n",
       "  'loss_193.1125': 0.0136094465926123,\n",
       "  'loss_122.1075': 0.0135679073736314,\n",
       "  'fragment_178.0875': 0.011079090477117,\n",
       "  'loss_169.0725': 0.0102494827328385,\n",
       "  'loss_134.1075': 0.00979326760835571,\n",
       "  'loss_35.0375': 0.0094596380219645,\n",
       "  'loss_80.0575': 0.00904644020565825,\n",
       "  'fragment_162.0925': 0.00846121644609241,\n",
       "  'loss_89.0825': 0.00771112923022568,\n",
       "  'fragment_107.0475': 0.00762301062651968,\n",
       "  'fragment_180.1025': 0.00738706360695577,\n",
       "  'loss_105.0775': 0.00690433728331423,\n",
       "  'loss_195.0875': 0.00651637095950386,\n",
       "  'fragment_98.0975': 0.00641900143554662,\n",
       "  'fragment_164.0725': 0.00556226128149497,\n",
       "  'loss_92.0575': 0.00489843310519854,\n",
       "  'fragment_173.0575': 0.00485708490201415,\n",
       "  'fragment_117.0675': 0.00435303317555403,\n",
       "  'loss_176.1175': 0.00423495003246912,\n",
       "  'loss_160.1225': 0.004234942446178,\n",
       "  'fragment_89.0375': 0.00396737335476799,\n",
       "  'fragment_249.1575': 0.00390308808400197,\n",
       "  'fragment_250.1425': 0.00388123995113395,\n",
       "  'loss_87.0675': 0.0037786342188405,\n",
       "  'loss_162.1025': 0.00361262930385605,\n",
       "  'loss_94.1125': 0.00357125039066333,\n",
       "  'fragment_106.0675': 0.00348215306621115,\n",
       "  'loss_136.0825': 0.00344663070271483,\n",
       "  'fragment_134.0625': 0.00337502591563948,\n",
       "  'loss_118.0725': 0.00328071043567202,\n",
       "  'loss_134.0675': 0.00311479017105725,\n",
       "  'loss_45.0225': 0.00309315165868581,\n",
       "  'loss_146.1075': 0.003073492728996,\n",
       "  'loss_174.1025': 0.00303196345490939,\n",
       "  'loss_150.1025': 0.00299054325410775,\n",
       "  'loss_133.1125': 0.00292236503120428,\n",
       "  'loss_161.1075': 0.00272648655974302,\n",
       "  'fragment_93.0675': 0.00266061145161339,\n",
       "  'loss_148.1225': 0.00245129855772929,\n",
       "  'fragment_207.1125': 0.00236763229674949,\n",
       "  'loss_47.0375': 0.00215404751991323,\n",
       "  'fragment_115.0525': 0.00214606358264805,\n",
       "  'loss_110.0725': 0.00211926436587035,\n",
       "  'fragment_63.0225': 0.00206273451794234,\n",
       "  'fragment_204.1375': 0.00200860134134615,\n",
       "  'fragment_162.0675': 0.00191200534089113,\n",
       "  'fragment_232.1325': 0.00178759783416815,\n",
       "  'loss_130.0725': 0.00170446812005653,\n",
       "  'loss_105.1025': 0.00157805423999627,\n",
       "  'loss_120.1275': 0.00153872828294901,\n",
       "  'loss_178.1375': 0.00133137942632753,\n",
       "  'loss_160.0825': 0.00133114772347147,\n",
       "  'loss_108.0525': 0.00133111430864525,\n",
       "  'loss_146.0675': 0.00128966768853791,\n",
       "  'loss_52.0625': 0.00128966447441002,\n",
       "  'loss_152.1225': 0.0012069386048451,\n",
       "  'loss_120.0525': 0.00120670762640943,\n",
       "  'loss_104.0575': 0.00120670762640943},\n",
       " 'mb_motif_39.m2m': {'fragment_136.0625': 0.571831605938947,\n",
       "  'loss_84.0575': 0.221299149707604,\n",
       "  'fragment_202.1075': 0.0544871057642247,\n",
       "  'fragment_268.1025': 0.0318618498725086,\n",
       "  'fragment_119.0375': 0.026705368066647,\n",
       "  'fragment_148.0625': 0.0182280165079049,\n",
       "  'loss_72.0575': 0.0123106691370825,\n",
       "  'fragment_185.0825': 0.00994997467800139,\n",
       "  'loss_35.0375': 0.00895703522835992,\n",
       "  'loss_18.0125': 0.00798075290608558,\n",
       "  'fragment_92.0225': 0.00521032656254228,\n",
       "  'loss_44.0375': 0.00480992109143441,\n",
       "  'loss_149.0675': 0.00423127985985855,\n",
       "  'fragment_94.0425': 0.00293273900206513,\n",
       "  'fragment_220.1525': 0.00277291382044994,\n",
       "  'loss_131.0375': 0.0024983719477673,\n",
       "  'fragment_109.0525': 0.00202675794101217,\n",
       "  'loss_183.0775': 0.00176511018455406,\n",
       "  'loss_42.0225': 0.00175526890958833,\n",
       "  'fragment_137.0625': 0.00173885054097034,\n",
       "  'fragment_164.9925': 0.00155641188094433,\n",
       "  'fragment_65.0125': 0.00140392771951536,\n",
       "  'loss_71.0475': 0.00137683233425644,\n",
       "  'fragment_67.0275': 0.00118048716204212,\n",
       "  'loss_174.0625': 0.00112927323563421}}"
      ]
     },
     "execution_count": 24,
     "metadata": {},
     "output_type": "execute_result"
    }
   ],
   "source": [
    "spectra"
   ]
  }
 ],
 "metadata": {
  "kernelspec": {
   "display_name": "Python 3 (ipykernel)",
   "language": "python",
   "name": "python3"
  },
  "language_info": {
   "codemirror_mode": {
    "name": "ipython",
    "version": 3
   },
   "file_extension": ".py",
   "mimetype": "text/x-python",
   "name": "python",
   "nbconvert_exporter": "python",
   "pygments_lexer": "ipython3",
   "version": "3.12.2"
  }
 },
 "nbformat": 4,
 "nbformat_minor": 4
}
