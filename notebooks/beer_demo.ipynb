{
 "cells": [
  {
   "cell_type": "markdown",
   "metadata": {},
   "source": [
    "# Initial Demo using Beer data"
   ]
  },
  {
   "cell_type": "code",
   "execution_count": 1,
   "metadata": {},
   "outputs": [],
   "source": [
    "%matplotlib inline\n",
    "\n",
    "%load_ext autoreload\n",
    "%autoreload 2"
   ]
  },
  {
   "cell_type": "code",
   "execution_count": 2,
   "metadata": {
    "pycharm": {
     "is_executing": true
    }
   },
   "outputs": [],
   "source": [
    "import os\n",
    "import sys\n",
    "sys.path.append('..')"
   ]
  },
  {
   "cell_type": "code",
   "execution_count": 3,
   "metadata": {
    "pycharm": {
     "is_executing": true
    }
   },
   "outputs": [],
   "source": [
    "from constants import FILE_FORMAT_MZML, FEATURE_SET_BINNED_005\n",
    "from ms2lda.main import msfile_to_corpus\n",
    "from ms2lda.lda_variational import VariationalLDA\n",
    "from motifdb.main import get_motifset_list, post_motifsets, acquire_motifdb, FeatureMatcher\n",
    "from ms2lda.loaders import LoadMZML\n",
    "from ms2lda.feature_maker import MakeBinnedFeatures\n",
    "from ms2lda.reporting import write_topic_report, write_motifs_in_scans"
   ]
  },
  {
   "cell_type": "markdown",
   "metadata": {},
   "source": [
    "## 1. Feature Extraction"
   ]
  },
  {
   "cell_type": "code",
   "execution_count": 4,
   "metadata": {
    "pycharm": {
     "is_executing": true
    }
   },
   "outputs": [],
   "source": [
    "ms2_file = 'test_data/Beer_multibeers_1_T10_POS.mzML'\n",
    "ms2_format = FILE_FORMAT_MZML\n",
    "\n",
    "min_ms1_intensity = 0\n",
    "min_ms2_intensity = 50\n",
    "mz_tol = 5.0\n",
    "rt_tol = 10.0\n",
    "feature_set_name = FEATURE_SET_BINNED_005\n",
    "\n",
    "K = 300\n",
    "corpus_json = os.path.join('test_data', 'beer1pos.json')"
   ]
  },
  {
   "cell_type": "code",
   "execution_count": 5,
   "metadata": {
    "pycharm": {
     "is_executing": true
    },
    "tags": []
   },
   "outputs": [
    {
     "name": "stderr",
     "output_type": "stream",
     "text": [
      "2023-02-21 22:44:38.376 | INFO     | ms2lda.main:msfile_to_corpus:59 - Loading test_data/Beer_multibeers_1_T10_POS.mzML using mzML loader\n",
      "2023-02-21 22:44:38.393 | INFO     | ms2lda.loaders:load_spectra:426 - Loading spectra from test_data/Beer_multibeers_1_T10_POS.mzML\n",
      "2023-02-21 22:44:42.840 | INFO     | ms2lda.loaders:load_spectra:555 - Found 7565 ms2 spectra, and 252886 individual ms2 objects\n",
      "2023-02-21 22:44:42.843 | INFO     | ms2lda.main:msfile_to_corpus:65 - bin_width = 0.005000\n",
      "2023-02-21 22:44:42.844 | INFO     | ms2lda.main:msfile_to_corpus:68 - Using Binning feature creator with bin_width = 0.005 to make features\n",
      "2023-02-21 22:44:50.227 | INFO     | ms2lda.feature_maker:make_features:141 - 7562 documents\n",
      "2023-02-21 22:44:50.227 | INFO     | ms2lda.feature_maker:make_features:142 - After removing empty words, 54765 words left\n",
      "2023-02-21 22:44:50.258 | INFO     | ms2lda.main:msfile_to_corpus:88 - Saving lda_dict to test_data/beer1pos.json\n"
     ]
    }
   ],
   "source": [
    "lda_dict = msfile_to_corpus(ms2_file, ms2_format, min_ms1_intensity, min_ms2_intensity, mz_tol, rt_tol, feature_set_name, K, corpus_json=corpus_json)"
   ]
  },
  {
   "cell_type": "code",
   "execution_count": 6,
   "metadata": {
    "pycharm": {
     "is_executing": true
    }
   },
   "outputs": [
    {
     "data": {
      "text/plain": [
       "dict_keys(['corpus', 'word_index', 'doc_index', 'doc_metadata', 'topic_index', 'topic_metadata', 'features'])"
      ]
     },
     "execution_count": 6,
     "metadata": {},
     "output_type": "execute_result"
    }
   ],
   "source": [
    "lda_dict.keys()"
   ]
  },
  {
   "cell_type": "markdown",
   "metadata": {},
   "source": [
    "## 2. Run LDA"
   ]
  },
  {
   "cell_type": "markdown",
   "metadata": {},
   "source": [
    "Runs standard Variational LDA with no added motifs"
   ]
  },
  {
   "cell_type": "code",
   "execution_count": 7,
   "metadata": {
    "pycharm": {
     "is_executing": true
    }
   },
   "outputs": [],
   "source": [
    "n_its = 10\n",
    "corpus = lda_dict['corpus']\n",
    "features = lda_dict['features']\n",
    "doc_metadata = lda_dict['doc_metadata']"
   ]
  },
  {
   "cell_type": "code",
   "execution_count": 8,
   "metadata": {
    "pycharm": {
     "is_executing": true
    }
   },
   "outputs": [
    {
     "name": "stderr",
     "output_type": "stream",
     "text": [
      "diff=30.348842: 100%|███████████████████████████████████████████████████████████████████| 10/10 [01:51<00:00, 11.17s/it]\n",
      "2023-02-21 22:46:45.164 | INFO     | ms2lda.lda_variational:make_dictionary:442 - Done 500\n",
      "2023-02-21 22:46:45.286 | INFO     | ms2lda.lda_variational:make_dictionary:442 - Done 1000\n",
      "2023-02-21 22:46:45.410 | INFO     | ms2lda.lda_variational:make_dictionary:442 - Done 1500\n",
      "2023-02-21 22:46:45.529 | INFO     | ms2lda.lda_variational:make_dictionary:442 - Done 2000\n",
      "2023-02-21 22:46:45.654 | INFO     | ms2lda.lda_variational:make_dictionary:442 - Done 2500\n",
      "2023-02-21 22:46:45.777 | INFO     | ms2lda.lda_variational:make_dictionary:442 - Done 3000\n",
      "2023-02-21 22:46:45.883 | INFO     | ms2lda.lda_variational:make_dictionary:442 - Done 3500\n",
      "2023-02-21 22:46:45.993 | INFO     | ms2lda.lda_variational:make_dictionary:442 - Done 4000\n",
      "2023-02-21 22:46:46.108 | INFO     | ms2lda.lda_variational:make_dictionary:442 - Done 4500\n",
      "2023-02-21 22:46:46.188 | INFO     | ms2lda.lda_variational:make_dictionary:442 - Done 5000\n",
      "2023-02-21 22:46:46.272 | INFO     | ms2lda.lda_variational:make_dictionary:442 - Done 5500\n",
      "2023-02-21 22:46:46.366 | INFO     | ms2lda.lda_variational:make_dictionary:442 - Done 6000\n",
      "2023-02-21 22:46:46.442 | INFO     | ms2lda.lda_variational:make_dictionary:442 - Done 6500\n",
      "2023-02-21 22:46:46.514 | INFO     | ms2lda.lda_variational:make_dictionary:442 - Done 7000\n",
      "2023-02-21 22:46:46.579 | INFO     | ms2lda.lda_variational:make_dictionary:442 - Done 7500\n"
     ]
    }
   ],
   "source": [
    "vlda = VariationalLDA(corpus=corpus, K=K, normalise=1000.0)\n",
    "vlda.run_vb(n_its=n_its, initialise=True)\n",
    "vd = vlda.make_dictionary(\n",
    "    features=features, metadata=doc_metadata, filename='test_data/beer.dict')"
   ]
  },
  {
   "cell_type": "markdown",
   "metadata": {},
   "source": [
    "## 3. MotifDB"
   ]
  },
  {
   "cell_type": "markdown",
   "metadata": {},
   "source": [
    "A demonstration on how to retrieve motifsets from MotifDB and use them for LDA inference.\n",
    "\n",
    "Below sections are based on https://github.com/glasgowcompbio/pySubstructures/blob/master/scripts/ms2lda_runfull.py. \n",
    "This is a copy of the script currently used in GNPS now to run https://ccms-ucsd.github.io/GNPSDocumentation/ms2lda. "
   ]
  },
  {
   "cell_type": "markdown",
   "metadata": {},
   "source": [
    "### a. Get the list of motif sets available from the server."
   ]
  },
  {
   "cell_type": "code",
   "execution_count": 9,
   "metadata": {
    "pycharm": {
     "is_executing": true
    }
   },
   "outputs": [
    {
     "data": {
      "text/plain": [
       "{'Urine derived Mass2Motifs': 1,\n",
       " 'GNPS library derived Mass2Motifs': 2,\n",
       " 'Massbank library derived Mass2Motifs': 4,\n",
       " 'Rhamnaceae Plant Mass2Motifs': 5,\n",
       " 'Euphorbia Plant Mass2Motifs': 3,\n",
       " 'LDB_NEG_MotifDB_02': 33,\n",
       " 'MIADB_pos_indole': 29,\n",
       " 'MIADB_pos_60': 30,\n",
       " 'MIADB_pos_100': 31,\n",
       " 'Streptomyces S29': 32,\n",
       " 'fragment_253.1925': 34,\n",
       " 'Tps6_motifs': 36,\n",
       " 'LDB_NEG_MotifDB_01': 17,\n",
       " 'MIADB_pos': 18,\n",
       " 'Streptomyces and Salinispora Mass2Motifs': 6,\n",
       " 'Photorhabdus and Xenorhabdus Mass2Motifs': 16,\n",
       " 'LDB MotifDB POS': 37,\n",
       " 'Planomonospora-associated Mass2Motifs': 38,\n",
       " 'Human Urine ESI_POS': 39,\n",
       " '20210810_16HT': 40,\n",
       " 'cholestane_glicoalkaloids': 64,\n",
       " 'Test25': 72,\n",
       " 'Aporphinic_alkaloids': 73,\n",
       " 'Urine derived Mass2Motifs 2': 74,\n",
       " 'NP_rings': 78,\n",
       " 'Test_FA': 75,\n",
       " 'Test_FA2': 76,\n",
       " 'DHA_motif': 77,\n",
       " 'test': 79}"
      ]
     },
     "execution_count": 9,
     "metadata": {},
     "output_type": "execute_result"
    }
   ],
   "source": [
    "motifset_dict = get_motifset_list()\n",
    "motifset_dict"
   ]
  },
  {
   "cell_type": "markdown",
   "metadata": {},
   "source": [
    "Below are the choices of motifsets available when running from GNPS. I think it's a series of checkboxes there."
   ]
  },
  {
   "cell_type": "code",
   "execution_count": 10,
   "metadata": {},
   "outputs": [
    {
     "data": {
      "text/plain": [
       "[2, 4, 1, 3, 5, 6, 16]"
      ]
     },
     "execution_count": 10,
     "metadata": {},
     "output_type": "execute_result"
    }
   ],
   "source": [
    "selected_motifsets = [\n",
    "    'GNPS library derived Mass2Motifs',\n",
    "    'Massbank library derived Mass2Motifs',\n",
    "    'Urine derived Mass2Motifs',\n",
    "    'Euphorbia Plant Mass2Motifs',\n",
    "    'Rhamnaceae Plant Mass2Motifs',\n",
    "    'Streptomyces and Salinispora Mass2Motifs',\n",
    "    'Photorhabdus and Xenorhabdus Mass2Motifs',\n",
    "]\n",
    "motifset_ids = [motifset_dict[m] for m in selected_motifsets]\n",
    "motifset_ids"
   ]
  },
  {
   "cell_type": "markdown",
   "metadata": {},
   "source": [
    "In GNPS, user has the option to also specify their own ms2lda experiment id on top of the motifsets above"
   ]
  },
  {
   "cell_type": "code",
   "execution_count": 11,
   "metadata": {},
   "outputs": [
    {
     "data": {
      "text/plain": [
       "[1, 2, 3, 4, 5, 6, 16]"
      ]
     },
     "execution_count": 11,
     "metadata": {},
     "output_type": "execute_result"
    }
   ],
   "source": [
    "user_motifset_ids = [] # leave blank for now\n",
    "db_list = list(set(motifset_ids + user_motifset_ids))\n",
    "db_list"
   ]
  },
  {
   "cell_type": "markdown",
   "metadata": {},
   "source": [
    "### b. Acquire motifset from MS2LDA.org.\n",
    "\n",
    "**TODO: modify so this reads locally stored file rather than fetching from server.** Not sure if we need to, but we can also use https://github.com/glasgowcompbio/pySubstructures/blob/master/scripts/extract_motifs_from_server.py to get all motifs on the server."
   ]
  },
  {
   "cell_type": "markdown",
   "metadata": {},
   "source": [
    "Make a POST request to the server to fetch the specified motif spectra and metadata. \n",
    "\n",
    "`motifdb_spectra` and `motifdb_metadata` are dictionaries where the key is the motif name, and the value is another dictionary."
   ]
  },
  {
   "cell_type": "code",
   "execution_count": 12,
   "metadata": {},
   "outputs": [
    {
     "name": "stderr",
     "output_type": "stream",
     "text": [
      "/opt/anaconda3/envs/pySub/lib/python3.9/site-packages/urllib3/connectionpool.py:1043: InsecureRequestWarning:\n",
      "\n",
      "Unverified HTTPS request is being made to host 'ms2lda.org'. Adding certificate verification is strongly advised. See: https://urllib3.readthedocs.io/en/1.26.x/advanced-usage.html#ssl-warnings\n",
      "\n"
     ]
    }
   ],
   "source": [
    "motifdb_spectra, motifdb_metadata, motifdb_features = acquire_motifdb(db_list)"
   ]
  },
  {
   "cell_type": "code",
   "execution_count": 13,
   "metadata": {},
   "outputs": [
    {
     "data": {
      "text/plain": [
       "(389, 389, 15418)"
      ]
     },
     "execution_count": 13,
     "metadata": {},
     "output_type": "execute_result"
    }
   ],
   "source": [
    "len(motifdb_spectra), len(motifdb_metadata), len(motifdb_features)"
   ]
  },
  {
   "cell_type": "code",
   "execution_count": 14,
   "metadata": {},
   "outputs": [
    {
     "data": {
      "text/plain": [
       "(dict, dict, set)"
      ]
     },
     "execution_count": 14,
     "metadata": {},
     "output_type": "execute_result"
    }
   ],
   "source": [
    "type(motifdb_spectra), type(motifdb_metadata), type(motifdb_features)"
   ]
  },
  {
   "cell_type": "markdown",
   "metadata": {},
   "source": [
    "The value in `motifdb_spectra` is another dictionary, where the key is the feature name, and the value is the probability (maybe? i forgot .. to check)"
   ]
  },
  {
   "cell_type": "code",
   "execution_count": 15,
   "metadata": {
    "tags": []
   },
   "outputs": [
    {
     "data": {
      "text/plain": [
       "{'loss_29.9500': 0.0037582452870463,\n",
       " 'loss_49.8500': 0.00106985503922065,\n",
       " 'fragment_587.1500': 0.00154228226008414,\n",
       " 'fragment_529.2500': 0.00130648997499644,\n",
       " 'fragment_659.2500': 0.00156497912260926,\n",
       " 'fragment_729.3500': 0.00106085240137599,\n",
       " 'fragment_673.3500': 0.00207616089295373,\n",
       " 'fragment_930.4500': 0.00383889422395102,\n",
       " 'fragment_569.5500': 0.00282630642220952,\n",
       " 'fragment_864.7500': 0.00129509734421731,\n",
       " 'fragment_551.2500': 0.00321410138141022,\n",
       " 'fragment_539.2500': 0.0128525126605606,\n",
       " 'fragment_842.3500': 0.00115560481154524,\n",
       " 'fragment_752.8500': 0.00110374498496376,\n",
       " 'fragment_620.7500': 0.00118106808757062,\n",
       " 'fragment_724.3500': 0.0064725022999416,\n",
       " 'fragment_546.7500': 0.00117142048046988,\n",
       " 'fragment_869.4500': 0.00138508685008911,\n",
       " 'fragment_827.3500': 0.00120619058801461,\n",
       " 'fragment_500.2500': 0.00208944869536447,\n",
       " 'fragment_428.1500': 0.00380772533224174,\n",
       " 'loss_93.1500': 0.00294927959215106,\n",
       " 'fragment_725.3500': 0.00902286761226882,\n",
       " 'fragment_881.5500': 0.00106985094207522,\n",
       " 'fragment_340.6500': 0.00171150733899609,\n",
       " 'loss_70.1500': 0.00200380195191916,\n",
       " 'fragment_726.3500': 0.00475643756037613,\n",
       " 'fragment_727.3500': 0.0214250116383471,\n",
       " 'fragment_907.4500': 0.00188035219593373,\n",
       " 'fragment_744.3500': 0.010121980686689,\n",
       " 'loss_57.5500': 0.0120500746619647,\n",
       " 'fragment_198.1500': 0.00218397769811965,\n",
       " 'loss_26.9500': 0.00225191420322335,\n",
       " 'fragment_638.5500': 0.00107003180814944,\n",
       " 'fragment_319.6500': 0.00107002387993316,\n",
       " 'fragment_851.0500': 0.00121635686050323,\n",
       " 'fragment_428.2500': 0.00300716230842267,\n",
       " 'loss_28.0500': 0.00652247347149361,\n",
       " 'fragment_613.2500': 0.00353164870968039,\n",
       " 'fragment_505.3500': 0.00134968575610463,\n",
       " 'fragment_626.6500': 0.00161349906002387,\n",
       " 'fragment_458.9500': 0.00198365077409209,\n",
       " 'loss_27.9500': 0.00413255857319572,\n",
       " 'fragment_417.1500': 0.00108828645774892,\n",
       " 'fragment_457.2500': 0.0174890019721047,\n",
       " 'fragment_847.3500': 0.00327554799028563,\n",
       " 'fragment_734.2500': 0.00157691626150748,\n",
       " 'fragment_583.2500': 0.00101143007767466,\n",
       " 'fragment_715.2500': 0.00290941558361051,\n",
       " 'fragment_733.2500': 0.00171033665893817,\n",
       " 'fragment_845.3500': 0.0112570981703938,\n",
       " 'fragment_846.3500': 0.00434568925386966,\n",
       " 'fragment_124.1500': 0.00115975076955331,\n",
       " 'fragment_732.2500': 0.00434753868938347,\n",
       " 'fragment_697.2500': 0.00334478629112819,\n",
       " 'loss_78.6500': 0.00118105765521309,\n",
       " 'fragment_558.1500': 0.00164099206107856,\n",
       " 'fragment_964.4500': 0.00565035867308003,\n",
       " 'fragment_432.4500': 0.00203838464926856,\n",
       " 'fragment_728.3500': 0.0071180254753322,\n",
       " 'fragment_664.3500': 0.0019209862738247,\n",
       " 'fragment_392.2500': 0.01210115338681,\n",
       " 'fragment_475.1500': 0.0012276065285157,\n",
       " 'fragment_723.3500': 0.0338125357556526,\n",
       " 'loss_96.0500': 0.00271269539604692,\n",
       " 'loss_43.8500': 0.00315197873684452,\n",
       " 'loss_152.6500': 0.00136003878854286,\n",
       " 'fragment_79.9500': 0.0014978453928493,\n",
       " 'fragment_743.3500': 0.0287364909996062,\n",
       " 'fragment_609.3500': 0.00169497993352081,\n",
       " 'fragment_713.3500': 0.00552741712004923,\n",
       " 'fragment_714.3500': 0.00225137647616583,\n",
       " 'loss_58.0500': 0.00166852175747593,\n",
       " 'fragment_456.2500': 0.0939018962241066,\n",
       " 'fragment_681.3500': 0.00562891581646248,\n",
       " 'loss_147.1500': 0.00372010039967548,\n",
       " 'fragment_924.9500': 0.00132880041493736,\n",
       " 'fragment_399.2500': 0.0425527271929024,\n",
       " 'fragment_727.2500': 0.00186954188007114,\n",
       " 'fragment_268.1500': 0.0331974453514523,\n",
       " 'fragment_627.2500': 0.00160010416086771,\n",
       " 'fragment_530.2500': 0.00166561288228571,\n",
       " 'loss_55.7500': 0.00153135005269005,\n",
       " 'fragment_203.1500': 0.0422425157085984,\n",
       " 'fragment_400.2500': 0.00616763828459525,\n",
       " 'fragment_695.3500': 0.00106271608409095,\n",
       " 'fragment_169.0500': 0.00482703515218994,\n",
       " 'loss_113.0500': 0.0115287149654035,\n",
       " 'fragment_244.0500': 0.00174720131269961,\n",
       " 'fragment_530.1500': 0.00100257668023598,\n",
       " 'fragment_172.0500': 0.0105827740489023,\n",
       " 'fragment_610.2500': 0.00377730254716406,\n",
       " 'fragment_521.2500': 0.00309332573591171,\n",
       " 'fragment_569.2500': 0.019573071393268,\n",
       " 'fragment_424.1500': 0.00128909835275486,\n",
       " 'loss_102.7500': 0.0010699467351695,\n",
       " 'fragment_247.1500': 0.00146426716983253,\n",
       " 'loss_94.5500': 0.0011714194773741,\n",
       " 'fragment_511.2500': 0.00167077314432363,\n",
       " 'fragment_372.1500': 0.00181044590557839,\n",
       " 'fragment_342.1500': 0.00279379134159976,\n",
       " 'fragment_383.1500': 0.00276844075226488,\n",
       " 'fragment_160.0500': 0.00196576555276384,\n",
       " 'fragment_197.1500': 0.00314848425699594,\n",
       " 'fragment_457.1500': 0.00212535114913907,\n",
       " 'fragment_300.1500': 0.210549972837078,\n",
       " 'fragment_282.1500': 0.0132568518915673,\n",
       " 'fragment_803.4500': 0.00120494104717844,\n",
       " 'fragment_301.1500': 0.0151965078388072,\n",
       " 'fragment_325.2500': 0.00187090342992538,\n",
       " 'fragment_254.0500': 0.00869384817101439,\n",
       " 'fragment_70.0500': 0.00266657006585788,\n",
       " 'fragment_86.0500': 0.00233352885736271,\n",
       " 'fragment_132.1500': 0.00215243760269276,\n",
       " 'loss_111.1500': 0.00100255246461132,\n",
       " 'fragment_613.3500': 0.00223609767902237,\n",
       " 'fragment_865.9500': 0.00114871078368395}"
      ]
     },
     "execution_count": 15,
     "metadata": {},
     "output_type": "execute_result"
    }
   ],
   "source": [
    "example = 'StrepSalini_motif_10.m2m'\n",
    "motifdb_spectra[example]"
   ]
  },
  {
   "cell_type": "markdown",
   "metadata": {},
   "source": [
    "The value in `motifdb_metadata` is simply a dictionary of metadata for this motif."
   ]
  },
  {
   "cell_type": "code",
   "execution_count": 16,
   "metadata": {},
   "outputs": [
    {
     "data": {
      "text/plain": [
       "{'short_annotation': 'Actinomycin peptide lactone related Mass2Motif',\n",
       " 'type': 'learnt',\n",
       " 'annotation': 'Actinomycin related Mass2Motif (H-VPMeGMeV-OH peptide lactone sequence)',\n",
       " 'name': 'motif_10',\n",
       " 'motifdb_id': 171208,\n",
       " 'motifdb_url': 'http://ms2lda.org/motifdb/motif/171208'}"
      ]
     },
     "execution_count": 16,
     "metadata": {},
     "output_type": "execute_result"
    }
   ],
   "source": [
    "motifdb_metadata[example]"
   ]
  },
  {
   "cell_type": "markdown",
   "metadata": {},
   "source": [
    "And `motifdb_features` is a set of features used in all motifs above."
   ]
  },
  {
   "cell_type": "code",
   "execution_count": 17,
   "metadata": {},
   "outputs": [
    {
     "data": {
      "text/plain": [
       "True"
      ]
     },
     "execution_count": 17,
     "metadata": {},
     "output_type": "execute_result"
    }
   ],
   "source": [
    "'loss_29.9500' in motifdb_features"
   ]
  },
  {
   "cell_type": "markdown",
   "metadata": {},
   "source": [
    "## 4. Combined workflow used in GNPS"
   ]
  },
  {
   "cell_type": "markdown",
   "metadata": {},
   "source": [
    "### a. Run feature extraction following the ms2lda_runfull.py script.\n",
    "\n",
    "**TODO: a lot of code duplications with msfile_to_corpus function above**\n",
    "\n",
    "**TODO: in GNPS we are able to take a peaklist CSV file to use for matching (filtering) of the extrated MS1 peaks from the fragmentation mzML file.**"
   ]
  },
  {
   "cell_type": "code",
   "execution_count": 18,
   "metadata": {},
   "outputs": [],
   "source": [
    "# in GNPS we only accept MGF as input (since that's the output from molecular networking), not mzML\n",
    "ms2_file = 'test_data/Beer_multibeers_1_T10_POS.mzML'\n",
    "ms2_format = FILE_FORMAT_MZML\n",
    "\n",
    "# same values as what's used in GNPS now\n",
    "min_ms1_intensity = 0\n",
    "min_ms2_intensity = 50 \n",
    "input_bin_width = 0.005\n",
    "\n",
    "peaklist = None # not working for now"
   ]
  },
  {
   "cell_type": "code",
   "execution_count": 19,
   "metadata": {},
   "outputs": [
    {
     "name": "stderr",
     "output_type": "stream",
     "text": [
      "2023-02-21 22:48:03.493 | INFO     | ms2lda.loaders:load_spectra:426 - Loading spectra from test_data/Beer_multibeers_1_T10_POS.mzML\n",
      "2023-02-21 22:48:08.303 | INFO     | ms2lda.loaders:load_spectra:555 - Found 7565 ms2 spectra, and 252886 individual ms2 objects\n"
     ]
    }
   ],
   "source": [
    "loader = LoadMZML(mz_tol=mz_tol,\n",
    "                  rt_tol=rt_tol, peaklist=peaklist,\n",
    "                  min_ms1_intensity=min_ms1_intensity,\n",
    "                  min_ms2_intensity=min_ms2_intensity)\n",
    "ms1, ms2, metadata = loader.load_spectra([ms2_file])"
   ]
  },
  {
   "cell_type": "code",
   "execution_count": 20,
   "metadata": {},
   "outputs": [
    {
     "name": "stderr",
     "output_type": "stream",
     "text": [
      "2023-02-21 22:48:15.717 | INFO     | ms2lda.feature_maker:make_features:141 - 7562 documents\n",
      "2023-02-21 22:48:15.717 | INFO     | ms2lda.feature_maker:make_features:142 - After removing empty words, 54765 words left\n"
     ]
    }
   ],
   "source": [
    "m = MakeBinnedFeatures(\n",
    "    bin_width=input_bin_width)\n",
    "corpus, features = m.make_features(ms2)"
   ]
  },
  {
   "cell_type": "code",
   "execution_count": 21,
   "metadata": {},
   "outputs": [
    {
     "data": {
      "text/plain": [
       "'Beer_multibeers_1_T10_POS.mzML'"
      ]
     },
     "execution_count": 21,
     "metadata": {},
     "output_type": "execute_result"
    }
   ],
   "source": [
    "first_key = list(corpus.keys())[0]\n",
    "first_key"
   ]
  },
  {
   "cell_type": "code",
   "execution_count": 22,
   "metadata": {},
   "outputs": [
    {
     "data": {
      "text/plain": [
       "7562"
      ]
     },
     "execution_count": 22,
     "metadata": {},
     "output_type": "execute_result"
    }
   ],
   "source": [
    "corpus = corpus[first_key]\n",
    "len(corpus)"
   ]
  },
  {
   "cell_type": "markdown",
   "metadata": {},
   "source": [
    "### b. Perform feature matching from MotifDB features to the corpus features"
   ]
  },
  {
   "cell_type": "code",
   "execution_count": 23,
   "metadata": {},
   "outputs": [
    {
     "name": "stdout",
     "output_type": "stream",
     "text": [
      "Finished matching (fragment). 3506 exact matches, 342 overlap matches, 6787 new features\n",
      "Finished matching (loss). 3853 exact matches, 311 overlap matches, 619 new features\n"
     ]
    }
   ],
   "source": [
    "fm = FeatureMatcher(motifdb_features, features)\n",
    "motifdb_spectra = fm.convert(motifdb_spectra)"
   ]
  },
  {
   "cell_type": "code",
   "execution_count": 24,
   "metadata": {},
   "outputs": [],
   "source": [
    "# Add the motifdb features to avoid problems when loading the dict into vlda later\n",
    "bin_width = m.bin_width\n",
    "added = 0\n",
    "for f in motifdb_features:\n",
    "    if not f in features:\n",
    "        word_mz = float(f.split('_')[1])\n",
    "        word_mz_min = word_mz - bin_width / 2\n",
    "        word_mz_max = word_mz + bin_width / 2\n",
    "        features[f] = (word_mz_min, word_mz_max)\n",
    "        added += 1"
   ]
  },
  {
   "cell_type": "code",
   "execution_count": 25,
   "metadata": {},
   "outputs": [
    {
     "name": "stdout",
     "output_type": "stream",
     "text": [
      "Added 8059 features\n"
     ]
    }
   ],
   "source": [
    "print(\"Added {} features\".format(added))"
   ]
  },
  {
   "cell_type": "markdown",
   "metadata": {},
   "source": [
    "### c. Run LDA inference for the fixed + free topics"
   ]
  },
  {
   "cell_type": "code",
   "execution_count": 26,
   "metadata": {},
   "outputs": [],
   "source": [
    "K = 100  # number of *new* topics\n",
    "vlda = VariationalLDA(corpus, K=K, normalise=1000.0,\n",
    "                      fixed_topics=motifdb_spectra,\n",
    "                      fixed_topics_metadata=motifdb_metadata)"
   ]
  },
  {
   "cell_type": "code",
   "execution_count": 27,
   "metadata": {},
   "outputs": [
    {
     "name": "stderr",
     "output_type": "stream",
     "text": [
      "diff=12.206977: 100%|███████████████████████████████████████████████████████████████████| 10/10 [02:35<00:00, 15.52s/it]\n"
     ]
    }
   ],
   "source": [
    "input_iterations = 10\n",
    "\n",
    "# note that for real runs the number of iterations is recommended to be 1000 or higher\n",
    "vlda.run_vb(initialise=True, n_its=input_iterations)"
   ]
  },
  {
   "cell_type": "markdown",
   "metadata": {},
   "source": [
    "### d. Save a dict file that can be uploaded to ms2lda.org for analysis later"
   ]
  },
  {
   "cell_type": "code",
   "execution_count": 28,
   "metadata": {},
   "outputs": [
    {
     "name": "stderr",
     "output_type": "stream",
     "text": [
      "2023-02-21 22:50:58.428 | INFO     | ms2lda.lda_variational:make_dictionary:442 - Done 500\n",
      "2023-02-21 22:50:58.602 | INFO     | ms2lda.lda_variational:make_dictionary:442 - Done 1000\n",
      "2023-02-21 22:50:58.783 | INFO     | ms2lda.lda_variational:make_dictionary:442 - Done 1500\n",
      "2023-02-21 22:50:58.924 | INFO     | ms2lda.lda_variational:make_dictionary:442 - Done 2000\n",
      "2023-02-21 22:50:59.059 | INFO     | ms2lda.lda_variational:make_dictionary:442 - Done 2500\n",
      "2023-02-21 22:50:59.194 | INFO     | ms2lda.lda_variational:make_dictionary:442 - Done 3000\n",
      "2023-02-21 22:50:59.309 | INFO     | ms2lda.lda_variational:make_dictionary:442 - Done 3500\n",
      "2023-02-21 22:50:59.431 | INFO     | ms2lda.lda_variational:make_dictionary:442 - Done 4000\n",
      "2023-02-21 22:50:59.553 | INFO     | ms2lda.lda_variational:make_dictionary:442 - Done 4500\n",
      "2023-02-21 22:50:59.630 | INFO     | ms2lda.lda_variational:make_dictionary:442 - Done 5000\n",
      "2023-02-21 22:50:59.709 | INFO     | ms2lda.lda_variational:make_dictionary:442 - Done 5500\n",
      "2023-02-21 22:50:59.792 | INFO     | ms2lda.lda_variational:make_dictionary:442 - Done 6000\n",
      "2023-02-21 22:50:59.889 | INFO     | ms2lda.lda_variational:make_dictionary:442 - Done 6500\n",
      "2023-02-21 22:50:59.968 | INFO     | ms2lda.lda_variational:make_dictionary:442 - Done 7000\n",
      "2023-02-21 22:51:00.033 | INFO     | ms2lda.lda_variational:make_dictionary:442 - Done 7500\n"
     ]
    }
   ],
   "source": [
    "vd = vlda.make_dictionary(features=features, metadata=metadata, filename='test.dict')"
   ]
  },
  {
   "cell_type": "markdown",
   "metadata": {},
   "source": [
    "### e. MolNet Integration\n",
    "\n",
    "Write a network graph file that can be loaded to Cytoscape later on"
   ]
  },
  {
   "cell_type": "code",
   "execution_count": 29,
   "metadata": {},
   "outputs": [],
   "source": [
    "# from ms2lda.molnet_integration import write_output_files\n",
    "\n",
    "# # not sure what should be the values of all these parameters\n",
    "# pairs_file = None \n",
    "# output_prefix = None\n",
    "\n",
    "# write_output_files(vd, pairs_file, output_prefix, metadata,\n",
    "#                    overlap_thresh=args.input_network_overlap, p_thresh=args.input_network_pvalue,\n",
    "#                    X=args.input_network_topx, motif_metadata=motifdb_metadata)"
   ]
  },
  {
   "cell_type": "markdown",
   "metadata": {},
   "source": [
    "### f. Generate PDF report"
   ]
  },
  {
   "cell_type": "code",
   "execution_count": 35,
   "metadata": {},
   "outputs": [
    {
     "data": {
      "application/vnd.jupyter.widget-view+json": {
       "model_id": "f657e88f95624fff87b1497658d99e01",
       "version_major": 2,
       "version_minor": 0
      },
      "text/plain": [
       "  0%|          | 0/489 [00:00<?, ?it/s]"
      ]
     },
     "metadata": {},
     "output_type": "display_data"
    }
   ],
   "source": [
    "# Writing the report - ntoe that you might need to set the 'backend' argument\n",
    "# for this method to work (see the method in lda.py) as it depends what on\n",
    "# your system will render the pdf...\n",
    "\n",
    "output_prefix = 'test'\n",
    "write_topic_report(vd, output_prefix + '_topic_report.pdf')"
   ]
  },
  {
   "cell_type": "code",
   "execution_count": 31,
   "metadata": {},
   "outputs": [],
   "source": [
    "output_prefix = 'test'\n",
    "overlap_thresh = 0.2\n",
    "p_thresh = 0.1\n",
    "X = 5\n",
    "write_motifs_in_scans(vd, metadata, overlap_thresh, p_thresh, X, motifdb_metadata, output_prefix)"
   ]
  }
 ],
 "metadata": {
  "kernelspec": {
   "display_name": "Python 3 (ipykernel)",
   "language": "python",
   "name": "python3"
  },
  "language_info": {
   "codemirror_mode": {
    "name": "ipython",
    "version": 3
   },
   "file_extension": ".py",
   "mimetype": "text/x-python",
   "name": "python",
   "nbconvert_exporter": "python",
   "pygments_lexer": "ipython3",
   "version": "3.11.4"
  }
 },
 "nbformat": 4,
 "nbformat_minor": 4
}
