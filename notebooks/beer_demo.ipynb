{
 "cells": [
  {
   "cell_type": "markdown",
   "metadata": {},
   "source": [
    "# Initial Demo using Beer data"
   ]
  },
  {
   "cell_type": "code",
   "execution_count": 1,
   "metadata": {},
   "outputs": [],
   "source": [
    "%load_ext autoreload\n",
    "%autoreload 2"
   ]
  },
  {
   "cell_type": "code",
   "execution_count": 2,
   "metadata": {},
   "outputs": [],
   "source": [
    "%matplotlib inline"
   ]
  },
  {
   "cell_type": "code",
   "execution_count": 3,
   "metadata": {},
   "outputs": [],
   "source": [
    "import os\n",
    "import sys\n",
    "sys.path.append('..')"
   ]
  },
  {
   "cell_type": "code",
   "execution_count": 4,
   "metadata": {},
   "outputs": [],
   "source": [
    "from ms2lda import msfile_to_corpus, VariationalLDA, FILE_FORMAT_MZML, FEATURE_SET_BINNED_005, get_motifset_list, post_motifsets"
   ]
  },
  {
   "cell_type": "markdown",
   "metadata": {},
   "source": [
    "### Feature Extraction"
   ]
  },
  {
   "cell_type": "code",
   "execution_count": 5,
   "metadata": {},
   "outputs": [],
   "source": [
    "ms2_file = 'C:\\\\Users\\\\joewa\\\\Dropbox\\\\Analysis\\\\ms2lda\\\\QCB_Top10_BGExclusion_Fusion_Method1.mzML'\n",
    "ms2_format = FILE_FORMAT_MZML\n",
    "\n",
    "min_ms1_intensity = 0\n",
    "min_ms2_intensity = 5000\n",
    "mz_tol = 5.0\n",
    "rt_tol = 10.0\n",
    "feature_set_name = FEATURE_SET_BINNED_005\n",
    "\n",
    "K = 300\n",
    "corpus_json = os.path.join('results', 'QCB_Top10_BGExclusion_Fusion_Method1.json')"
   ]
  },
  {
   "cell_type": "code",
   "execution_count": 6,
   "metadata": {},
   "outputs": [
    {
     "name": "stderr",
     "output_type": "stream",
     "text": [
      "2020-08-09 23:15:45.142 | INFO     | ms2lda.main:msfile_to_corpus:55 - Loading C:\\Users\\joewa\\Dropbox\\Analysis\\ms2lda\\QCB_Top10_BGExclusion_Fusion_Method1.mzML using mzML loader\n",
      "2020-08-09 23:15:45.172 | INFO     | ms2lda.preprocess.loaders:load_spectra:413 - Loading spectra from C:\\Users\\joewa\\Dropbox\\Analysis\\ms2lda\\QCB_Top10_BGExclusion_Fusion_Method1.mzML\n",
      "2020-08-09 23:15:49.538 | INFO     | ms2lda.preprocess.loaders:load_spectra:529 - Found 4747 ms2 spectra, and 13519 individual ms2 objects\n",
      "2020-08-09 23:15:49.543 | INFO     | ms2lda.main:msfile_to_corpus:61 - bin_width = 0.005000\n",
      "2020-08-09 23:15:49.543 | INFO     | ms2lda.main:msfile_to_corpus:64 - Using Binning feature creator with bin_width = 0.005 to make features\n",
      "2020-08-09 23:15:49.897 | INFO     | ms2lda.preprocess.feature_maker:make_features:141 - 4590 documents\n",
      "2020-08-09 23:15:49.897 | INFO     | ms2lda.preprocess.feature_maker:make_features:142 - After removing empty words, 5381 words left\n",
      "2020-08-09 23:15:49.905 | INFO     | ms2lda.main:msfile_to_corpus:82 - Saving lda_dict to results\\QCB_Top10_BGExclusion_Fusion_Method1.json\n"
     ]
    }
   ],
   "source": [
    "lda_dict = msfile_to_corpus(ms2_file, ms2_format, min_ms1_intensity, min_ms2_intensity, mz_tol, rt_tol, feature_set_name, K, corpus_json=corpus_json)"
   ]
  },
  {
   "cell_type": "code",
   "execution_count": 7,
   "metadata": {},
   "outputs": [
    {
     "data": {
      "text/plain": [
       "dict_keys(['corpus', 'word_index', 'doc_index', 'doc_metadata', 'topic_index', 'topic_metadata', 'features'])"
      ]
     },
     "execution_count": 7,
     "metadata": {},
     "output_type": "execute_result"
    }
   ],
   "source": [
    "lda_dict.keys()"
   ]
  },
  {
   "cell_type": "markdown",
   "metadata": {},
   "source": [
    "### Run LDA"
   ]
  },
  {
   "cell_type": "markdown",
   "metadata": {},
   "source": [
    "Runs standard Variational LDA with no added motifs"
   ]
  },
  {
   "cell_type": "code",
   "execution_count": 8,
   "metadata": {},
   "outputs": [],
   "source": [
    "n_its = 100\n",
    "corpus = lda_dict['corpus']"
   ]
  },
  {
   "cell_type": "code",
   "execution_count": 9,
   "metadata": {},
   "outputs": [
    {
     "name": "stderr",
     "output_type": "stream",
     "text": [
      "diff=0.330819: 100%|█████████████████████████████████████████████████████████████████| 100/100 [01:14<00:00,  1.34it/s]\n"
     ]
    }
   ],
   "source": [
    "vlda = VariationalLDA(corpus=corpus, K=K, normalise=1000.0)\n",
    "vlda.run_vb(n_its=n_its, initialise=True)"
   ]
  },
  {
   "cell_type": "markdown",
   "metadata": {},
   "source": [
    "### MotifDB"
   ]
  },
  {
   "cell_type": "code",
   "execution_count": 10,
   "metadata": {},
   "outputs": [
    {
     "data": {
      "text/plain": [
       "{'MIADB_pos': 18,\n",
       " 'fragment_253.1925': 34,\n",
       " 'Photorhabdus and Xenorhabdus Mass2Motifs': 16,\n",
       " 'LDB MotifDB POS': 37,\n",
       " 'Euphorbia Plant Mass2Motifs': 3,\n",
       " 'MIADB_pos_100': 31,\n",
       " 'Rhamnaceae Plant Mass2Motifs': 5,\n",
       " 'LDB_NEG_MotifDB_01': 17,\n",
       " 'LDB_NEG_MotifDB_02': 33,\n",
       " 'MIADB_pos_indole': 29,\n",
       " 'Urine derived Mass2Motifs': 1,\n",
       " 'Streptomyces S29': 32,\n",
       " 'Tps6_motifs': 36,\n",
       " 'MIADB_pos_60': 30,\n",
       " 'GNPS library derived Mass2Motifs': 2,\n",
       " 'Streptomyces and Salinispora Mass2Motifs': 6,\n",
       " 'Massbank library derived Mass2Motifs': 4}"
      ]
     },
     "execution_count": 10,
     "metadata": {},
     "output_type": "execute_result"
    }
   ],
   "source": [
    "get_motifset_list()"
   ]
  },
  {
   "cell_type": "code",
   "execution_count": 11,
   "metadata": {},
   "outputs": [],
   "source": [
    "selected = [\n",
    "    'Massbank library derived Mass2Motifs',\n",
    "    'GNPS library derived Mass2Motifs'\n",
    "]\n",
    "output = post_motifsets(selected)"
   ]
  },
  {
   "cell_type": "code",
   "execution_count": 12,
   "metadata": {},
   "outputs": [
    {
     "data": {
      "text/plain": [
       "dict_keys(['motifs', 'metadata'])"
      ]
     },
     "execution_count": 12,
     "metadata": {},
     "output_type": "execute_result"
    }
   ],
   "source": [
    "output.keys()"
   ]
  }
 ],
 "metadata": {
  "kernelspec": {
   "display_name": "Python 3",
   "language": "python",
   "name": "python3"
  },
  "language_info": {
   "codemirror_mode": {
    "name": "ipython",
    "version": 3
   },
   "file_extension": ".py",
   "mimetype": "text/x-python",
   "name": "python",
   "nbconvert_exporter": "python",
   "pygments_lexer": "ipython3",
   "version": "3.7.3"
  }
 },
 "nbformat": 4,
 "nbformat_minor": 4
}
