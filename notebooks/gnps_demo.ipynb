{
 "cells": [
  {
   "cell_type": "markdown",
   "metadata": {},
   "source": [
    "# Initial Demo using GNPS Data"
   ]
  },
  {
   "cell_type": "code",
   "execution_count": 1,
   "metadata": {},
   "outputs": [],
   "source": [
    "%load_ext autoreload\n",
    "%autoreload 2"
   ]
  },
  {
   "cell_type": "code",
   "execution_count": 2,
   "metadata": {},
   "outputs": [],
   "source": [
    "%matplotlib inline"
   ]
  },
  {
   "cell_type": "code",
   "execution_count": 3,
   "metadata": {},
   "outputs": [],
   "source": [
    "import os\n",
    "import sys\n",
    "sys.path.append('..')"
   ]
  },
  {
   "cell_type": "code",
   "execution_count": 4,
   "metadata": {},
   "outputs": [],
   "source": [
    "from constants import FILE_FORMAT_MGF, FEATURE_SET_BINNED_01\n",
    "from ms2lda.main import msfile_to_corpus\n",
    "from ms2lda.lda_variational import VariationalLDA"
   ]
  },
  {
   "cell_type": "markdown",
   "metadata": {},
   "source": [
    "### Feature Extraction"
   ]
  },
  {
   "cell_type": "code",
   "execution_count": 8,
   "metadata": {},
   "outputs": [],
   "source": [
    "ms2_file = 'C:\\\\Users\\\\joewa\\\\Dropbox\\\\Analysis\\\\ms2lda\\\\allGNPS_positive_uniqueInchikey_191107.mgf'\n",
    "ms2_format = FILE_FORMAT_MGF\n",
    "\n",
    "min_ms1_intensity = 0.0\n",
    "min_ms2_intensity = 25\n",
    "mz_tol = 5.0\n",
    "rt_tol = 10.0\n",
    "feature_set_name = FEATURE_SET_BINNED_01\n",
    "\n",
    "K = 10\n",
    "corpus_json = os.path.join('results', 'allGNPS_positive_uniqueInchikey_191107.json')"
   ]
  },
  {
   "cell_type": "code",
   "execution_count": 9,
   "metadata": {},
   "outputs": [
    {
     "name": "stderr",
     "output_type": "stream",
     "text": [
      "2020-07-25 17:06:21.515 | INFO     | ms2lda.main:msfile_to_corpus:54 - Loading C:\\Users\\joewa\\Dropbox\\Analysis\\ms2lda\\allGNPS_positive_uniqueInchikey_191107.mgf using MGF loader\n",
      "2020-07-25 17:06:37.444 | INFO     | ms2lda.preprocess.loaders:filter_ms2_intensity:330 - Filtering MS2 on intensity\n",
      "2020-07-25 17:06:38.556 | INFO     | ms2lda.preprocess.loaders:filter_ms2_intensity:332 - 8352072 MS2 remaining\n",
      "2020-07-25 17:06:38.679 | INFO     | ms2lda.main:msfile_to_corpus:63 - bin_width = 0.010000\n",
      "2020-07-25 17:06:38.679 | INFO     | ms2lda.main:msfile_to_corpus:66 - Using Binning feature creator with bin_width = 0.01 to make features\n",
      "2020-07-25 17:06:56.178 | INFO     | ms2lda.preprocess.feature_maker:make_features:141 - 11004 documents\n",
      "2020-07-25 17:06:56.179 | INFO     | ms2lda.preprocess.feature_maker:make_features:142 - After removing empty words, 114704 words left\n",
      "2020-07-25 17:06:56.762 | INFO     | ms2lda.main:msfile_to_corpus:84 - Saving lda_dict to results\\allGNPS_positive_uniqueInchikey_191107.json\n"
     ]
    }
   ],
   "source": [
    "lda_dict = msfile_to_corpus(ms2_file, ms2_format, min_ms1_intensity, min_ms2_intensity, mz_tol, rt_tol, feature_set_name, K, corpus_json=corpus_json)"
   ]
  },
  {
   "cell_type": "code",
   "execution_count": 10,
   "metadata": {},
   "outputs": [
    {
     "data": {
      "text/plain": [
       "dict_keys(['corpus', 'word_index', 'doc_index', 'doc_metadata', 'topic_index', 'topic_metadata', 'features'])"
      ]
     },
     "execution_count": 10,
     "metadata": {},
     "output_type": "execute_result"
    }
   ],
   "source": [
    "lda_dict.keys()"
   ]
  },
  {
   "cell_type": "markdown",
   "metadata": {},
   "source": [
    "### Run LDA"
   ]
  },
  {
   "cell_type": "markdown",
   "metadata": {},
   "source": [
    "Runs standard Variational LDA with no added motifs"
   ]
  },
  {
   "cell_type": "code",
   "execution_count": 11,
   "metadata": {},
   "outputs": [],
   "source": [
    "n_its = 10\n",
    "corpus = lda_dict['corpus']"
   ]
  },
  {
   "cell_type": "code",
   "execution_count": 13,
   "metadata": {},
   "outputs": [
    {
     "name": "stderr",
     "output_type": "stream",
     "text": [
      "2020-07-25 17:08:44.912 | DEBUG    | ms2lda.topic_modelling.lda_variational:__init__:47 - Normalising intensities\n",
      "2020-07-25 17:08:49.070 | DEBUG    | ms2lda.topic_modelling.lda_variational:run_vb:130 - Initialising\n",
      "2020-07-25 17:08:58.289 | DEBUG    | ms2lda.topic_modelling.lda_variational:run_vb:133 - Starting iterations\n",
      "2020-07-25 17:11:44.795 | INFO     | ms2lda.topic_modelling.lda_variational:run_vb:143 - Iteration 0 (change = 15.336162769597012) (166.50431809999998 seconds, I think I'll finish in 27.75071968333333 minutes). Alpha: (1.4800579923162909,1.6080809211191973)\n"
     ]
    },
    {
     "ename": "KeyboardInterrupt",
     "evalue": "",
     "output_type": "error",
     "traceback": [
      "\u001B[1;31m---------------------------------------------------------------------------\u001B[0m",
      "\u001B[1;31mKeyboardInterrupt\u001B[0m                         Traceback (most recent call last)",
      "\u001B[1;32m<ipython-input-13-4c9d91361044>\u001B[0m in \u001B[0;36m<module>\u001B[1;34m\u001B[0m\n\u001B[0;32m      1\u001B[0m \u001B[0mvlda\u001B[0m \u001B[1;33m=\u001B[0m \u001B[0mVariationalLDA\u001B[0m\u001B[1;33m(\u001B[0m\u001B[0mcorpus\u001B[0m\u001B[1;33m=\u001B[0m\u001B[0mcorpus\u001B[0m\u001B[1;33m,\u001B[0m \u001B[0mK\u001B[0m\u001B[1;33m=\u001B[0m\u001B[0mK\u001B[0m\u001B[1;33m,\u001B[0m \u001B[0mnormalise\u001B[0m\u001B[1;33m=\u001B[0m\u001B[1;36m1000.0\u001B[0m\u001B[1;33m)\u001B[0m\u001B[1;33m\u001B[0m\u001B[1;33m\u001B[0m\u001B[0m\n\u001B[1;32m----> 2\u001B[1;33m \u001B[0mvlda\u001B[0m\u001B[1;33m.\u001B[0m\u001B[0mrun_vb\u001B[0m\u001B[1;33m(\u001B[0m\u001B[0mn_its\u001B[0m\u001B[1;33m=\u001B[0m\u001B[0mn_its\u001B[0m\u001B[1;33m,\u001B[0m \u001B[0minitialise\u001B[0m\u001B[1;33m=\u001B[0m\u001B[1;32mTrue\u001B[0m\u001B[1;33m)\u001B[0m\u001B[1;33m\u001B[0m\u001B[1;33m\u001B[0m\u001B[0m\n\u001B[0m",
      "\u001B[1;32m~\\Work\\git\\ms2lda-tools\\ms2lda\\topic_modelling\\lda_variational.py\u001B[0m in \u001B[0;36mrun_vb\u001B[1;34m(self, n_its, initialise)\u001B[0m\n\u001B[0;32m    134\u001B[0m         \u001B[1;32mfor\u001B[0m \u001B[0mit\u001B[0m \u001B[1;32min\u001B[0m \u001B[0mrange\u001B[0m\u001B[1;33m(\u001B[0m\u001B[0mn_its\u001B[0m\u001B[1;33m)\u001B[0m\u001B[1;33m:\u001B[0m\u001B[1;33m\u001B[0m\u001B[1;33m\u001B[0m\u001B[0m\n\u001B[0;32m    135\u001B[0m             \u001B[0mstart_time\u001B[0m \u001B[1;33m=\u001B[0m \u001B[0mtime\u001B[0m\u001B[1;33m.\u001B[0m\u001B[0mperf_counter\u001B[0m\u001B[1;33m(\u001B[0m\u001B[1;33m)\u001B[0m\u001B[1;33m\u001B[0m\u001B[1;33m\u001B[0m\u001B[0m\n\u001B[1;32m--> 136\u001B[1;33m             \u001B[0mdiff\u001B[0m \u001B[1;33m=\u001B[0m \u001B[0mself\u001B[0m\u001B[1;33m.\u001B[0m\u001B[0mvb_step\u001B[0m\u001B[1;33m(\u001B[0m\u001B[1;33m)\u001B[0m\u001B[1;33m\u001B[0m\u001B[1;33m\u001B[0m\u001B[0m\n\u001B[0m\u001B[0;32m    137\u001B[0m             \u001B[0mend_time\u001B[0m \u001B[1;33m=\u001B[0m \u001B[0mtime\u001B[0m\u001B[1;33m.\u001B[0m\u001B[0mperf_counter\u001B[0m\u001B[1;33m(\u001B[0m\u001B[1;33m)\u001B[0m\u001B[1;33m\u001B[0m\u001B[1;33m\u001B[0m\u001B[0m\n\u001B[0;32m    138\u001B[0m             \u001B[0mself\u001B[0m\u001B[1;33m.\u001B[0m\u001B[0mits_performed\u001B[0m \u001B[1;33m+=\u001B[0m \u001B[1;36m1\u001B[0m\u001B[1;33m\u001B[0m\u001B[1;33m\u001B[0m\u001B[0m\n",
      "\u001B[1;32m~\\Work\\git\\ms2lda-tools\\ms2lda\\topic_modelling\\lda_variational.py\u001B[0m in \u001B[0;36mvb_step\u001B[1;34m(self)\u001B[0m\n\u001B[0;32m    149\u001B[0m         \"\"\"\n\u001B[0;32m    150\u001B[0m         \u001B[1;31m# Run an e-step\u001B[0m\u001B[1;33m\u001B[0m\u001B[1;33m\u001B[0m\u001B[1;33m\u001B[0m\u001B[0m\n\u001B[1;32m--> 151\u001B[1;33m         \u001B[0mtemp_beta\u001B[0m \u001B[1;33m=\u001B[0m \u001B[0mself\u001B[0m\u001B[1;33m.\u001B[0m\u001B[0me_step\u001B[0m\u001B[1;33m(\u001B[0m\u001B[1;33m)\u001B[0m\u001B[1;33m\u001B[0m\u001B[1;33m\u001B[0m\u001B[0m\n\u001B[0m\u001B[0;32m    152\u001B[0m         \u001B[0mtemp_beta\u001B[0m \u001B[1;33m+=\u001B[0m \u001B[0mself\u001B[0m\u001B[1;33m.\u001B[0m\u001B[0meta\u001B[0m\u001B[1;33m\u001B[0m\u001B[1;33m\u001B[0m\u001B[0m\n\u001B[0;32m    153\u001B[0m \u001B[1;33m\u001B[0m\u001B[0m\n",
      "\u001B[1;32m~\\Work\\git\\ms2lda-tools\\ms2lda\\topic_modelling\\lda_variational.py\u001B[0m in \u001B[0;36me_step\u001B[1;34m(self)\u001B[0m\n\u001B[0;32m    230\u001B[0m                 \u001B[1;31m# for k in range(self.K):\u001B[0m\u001B[1;33m\u001B[0m\u001B[1;33m\u001B[0m\u001B[1;33m\u001B[0m\u001B[0m\n\u001B[0;32m    231\u001B[0m                 \u001B[1;31m#   self.phi_matrix[doc][word][k] = self.beta_matrix[k,w]*np.exp(scipy.special.psi(self.gamma_matrix[d,k]))\u001B[0m\u001B[1;33m\u001B[0m\u001B[1;33m\u001B[0m\u001B[1;33m\u001B[0m\u001B[0m\n\u001B[1;32m--> 232\u001B[1;33m                 \u001B[0mlog_phi_matrix\u001B[0m \u001B[1;33m=\u001B[0m \u001B[0mnp\u001B[0m\u001B[1;33m.\u001B[0m\u001B[0mexp\u001B[0m\u001B[1;33m(\u001B[0m\u001B[0mlog_phi_matrix\u001B[0m \u001B[1;33m-\u001B[0m \u001B[0mlog_phi_matrix\u001B[0m\u001B[1;33m.\u001B[0m\u001B[0mmax\u001B[0m\u001B[1;33m(\u001B[0m\u001B[1;33m)\u001B[0m\u001B[1;33m)\u001B[0m\u001B[1;33m\u001B[0m\u001B[1;33m\u001B[0m\u001B[0m\n\u001B[0m\u001B[0;32m    233\u001B[0m                 \u001B[0mself\u001B[0m\u001B[1;33m.\u001B[0m\u001B[0mphi_matrix\u001B[0m\u001B[1;33m[\u001B[0m\u001B[0mdoc\u001B[0m\u001B[1;33m]\u001B[0m\u001B[1;33m[\u001B[0m\u001B[0mword\u001B[0m\u001B[1;33m]\u001B[0m \u001B[1;33m=\u001B[0m \u001B[0mlog_phi_matrix\u001B[0m \u001B[1;33m/\u001B[0m \u001B[0mlog_phi_matrix\u001B[0m\u001B[1;33m.\u001B[0m\u001B[0msum\u001B[0m\u001B[1;33m(\u001B[0m\u001B[1;33m)\u001B[0m\u001B[1;33m\u001B[0m\u001B[1;33m\u001B[0m\u001B[0m\n\u001B[0;32m    234\u001B[0m                 \u001B[1;31m# self.phi_matrix[doc][word] /= self.phi_matrix[doc][word].sum()\u001B[0m\u001B[1;33m\u001B[0m\u001B[1;33m\u001B[0m\u001B[1;33m\u001B[0m\u001B[0m\n",
      "\u001B[1;32mc:\\users\\joewa\\.virtualenvs\\ms2lda-tools-xsphaurx\\lib\\site-packages\\numpy\\core\\_methods.py\u001B[0m in \u001B[0;36m_amax\u001B[1;34m(a, axis, out, keepdims, initial, where)\u001B[0m\n\u001B[0;32m     37\u001B[0m def _amax(a, axis=None, out=None, keepdims=False,\n\u001B[0;32m     38\u001B[0m           initial=_NoValue, where=True):\n\u001B[1;32m---> 39\u001B[1;33m     \u001B[1;32mreturn\u001B[0m \u001B[0mumr_maximum\u001B[0m\u001B[1;33m(\u001B[0m\u001B[0ma\u001B[0m\u001B[1;33m,\u001B[0m \u001B[0maxis\u001B[0m\u001B[1;33m,\u001B[0m \u001B[1;32mNone\u001B[0m\u001B[1;33m,\u001B[0m \u001B[0mout\u001B[0m\u001B[1;33m,\u001B[0m \u001B[0mkeepdims\u001B[0m\u001B[1;33m,\u001B[0m \u001B[0minitial\u001B[0m\u001B[1;33m,\u001B[0m \u001B[0mwhere\u001B[0m\u001B[1;33m)\u001B[0m\u001B[1;33m\u001B[0m\u001B[1;33m\u001B[0m\u001B[0m\n\u001B[0m\u001B[0;32m     40\u001B[0m \u001B[1;33m\u001B[0m\u001B[0m\n\u001B[0;32m     41\u001B[0m def _amin(a, axis=None, out=None, keepdims=False,\n",
      "\u001B[1;31mKeyboardInterrupt\u001B[0m: "
     ]
    }
   ],
   "source": [
    "vlda = VariationalLDA(corpus=corpus, K=K, normalise=1000.0)\n",
    "vlda.run_vb(n_its=n_its, initialise=True)"
   ]
  },
  {
   "cell_type": "code",
   "execution_count": null,
   "metadata": {},
   "outputs": [],
   "source": []
  }
 ],
 "metadata": {
  "kernelspec": {
   "display_name": "Python 3",
   "language": "python",
   "name": "python3"
  },
  "language_info": {
   "codemirror_mode": {
    "name": "ipython",
    "version": 3
   },
   "file_extension": ".py",
   "mimetype": "text/x-python",
   "name": "python",
   "nbconvert_exporter": "python",
   "pygments_lexer": "ipython3",
   "version": "3.7.3"
  }
 },
 "nbformat": 4,
 "nbformat_minor": 4
}